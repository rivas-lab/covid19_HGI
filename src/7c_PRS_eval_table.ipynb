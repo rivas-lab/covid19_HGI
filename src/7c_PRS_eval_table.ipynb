{
 "cells": [
  {
   "cell_type": "code",
   "execution_count": 1,
   "id": "skilled-computer",
   "metadata": {},
   "outputs": [],
   "source": [
    "suppressWarnings(suppressPackageStartupMessages({\n",
    "    library(tidyverse)\n",
    "    library(data.table)\n",
    "}))\n"
   ]
  },
  {
   "cell_type": "code",
   "execution_count": 2,
   "id": "thorough-silly",
   "metadata": {},
   "outputs": [],
   "source": [
    "source('0_parameters.sh')\n"
   ]
  },
  {
   "cell_type": "code",
   "execution_count": 10,
   "id": "impressed-girlfriend",
   "metadata": {},
   "outputs": [],
   "source": [
    "Sys.glob(file.path(data_d, 'UKB_PRS_eval', 'eval_df', '*.tsv')) %>%\n",
    "lapply(function(f){\n",
    "    fread(f, colClasses = c('#UKB_phe'='character'))\n",
    "}) %>%\n",
    "bind_rows() %>%\n",
    "rename('UKB_phe'='#UKB_phe') -> df\n"
   ]
  },
  {
   "cell_type": "code",
   "execution_count": 12,
   "id": "dress-spectacular",
   "metadata": {},
   "outputs": [],
   "source": [
    "df %>%\n",
    "rename('#UKB_phe' = 'UKB_phe') %>%\n",
    "fwrite('7c_PRS_eval_table.tsv', sep='\\t', na = \"NA\", quote=F)\n"
   ]
  },
  {
   "cell_type": "code",
   "execution_count": null,
   "id": "shared-robert",
   "metadata": {},
   "outputs": [],
   "source": []
  }
 ],
 "metadata": {
  "kernelspec": {
   "display_name": "R",
   "language": "R",
   "name": "ir"
  },
  "language_info": {
   "codemirror_mode": "r",
   "file_extension": ".r",
   "mimetype": "text/x-r-source",
   "name": "R",
   "pygments_lexer": "r",
   "version": "3.6.2"
  }
 },
 "nbformat": 4,
 "nbformat_minor": 5
}
