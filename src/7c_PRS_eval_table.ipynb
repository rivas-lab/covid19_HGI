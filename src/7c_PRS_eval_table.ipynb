{
 "cells": [
  {
   "cell_type": "code",
   "execution_count": 1,
   "id": "imported-horizontal",
   "metadata": {},
   "outputs": [],
   "source": [
    "suppressWarnings(suppressPackageStartupMessages({\n",
    "    library(tidyverse)\n",
    "    library(data.table)\n",
    "}))\n"
   ]
  },
  {
   "cell_type": "code",
   "execution_count": 2,
   "id": "individual-messaging",
   "metadata": {},
   "outputs": [],
   "source": [
    "source('0_parameters.sh')\n"
   ]
  },
  {
   "cell_type": "code",
   "execution_count": 15,
   "id": "vital-dragon",
   "metadata": {},
   "outputs": [],
   "source": [
    "Sys.glob(file.path(data_d, 'UKB_PRS_eval', 'eval_df', '*.tsv')) %>%\n",
    "lapply(function(f){\n",
    "    fread(f, colClasses = c('#UKB_phe'='character'))\n",
    "}) %>%\n",
    "bind_rows() %>%\n",
    "rename('UKB_phe'='#UKB_phe') -> df\n"
   ]
  },
  {
   "cell_type": "code",
   "execution_count": 16,
   "id": "matched-psychology",
   "metadata": {},
   "outputs": [
    {
     "data": {
      "text/html": [
       "<style>\n",
       ".list-inline {list-style: none; margin:0; padding: 0}\n",
       ".list-inline>li {display: inline-block}\n",
       ".list-inline>li:not(:last-child)::after {content: \"\\00b7\"; padding: 0 .5ex}\n",
       "</style>\n",
       "<ol class=list-inline><li>96</li><li>9</li></ol>\n"
      ],
      "text/latex": [
       "\\begin{enumerate*}\n",
       "\\item 96\n",
       "\\item 9\n",
       "\\end{enumerate*}\n"
      ],
      "text/markdown": [
       "1. 96\n",
       "2. 9\n",
       "\n",
       "\n"
      ],
      "text/plain": [
       "[1] 96  9"
      ]
     },
     "metadata": {},
     "output_type": "display_data"
    }
   ],
   "source": [
    "df %>% dim()"
   ]
  },
  {
   "cell_type": "code",
   "execution_count": 17,
   "id": "increasing-comparison",
   "metadata": {},
   "outputs": [],
   "source": [
    "df %>%\n",
    "rename('#UKB_phe' = 'UKB_phe') %>%\n",
    "fwrite('7c_PRS_eval_table.tsv', sep='\\t', na = \"NA\", quote=F)\n"
   ]
  },
  {
   "cell_type": "code",
   "execution_count": 18,
   "id": "listed-galaxy",
   "metadata": {},
   "outputs": [
    {
     "data": {
      "text/html": [
       "<table class=\"dataframe\">\n",
       "<caption>A data.table: 24 × 9</caption>\n",
       "<thead>\n",
       "\t<tr><th scope=col>UKB_phe</th><th scope=col>HGI_case_control</th><th scope=col>HGI_suffix</th><th scope=col>clump_p1</th><th scope=col>geno</th><th scope=col>covar</th><th scope=col>geno_covar</th><th scope=col>case_n</th><th scope=col>control_n</th></tr>\n",
       "\t<tr><th scope=col>&lt;chr&gt;</th><th scope=col>&lt;chr&gt;</th><th scope=col>&lt;chr&gt;</th><th scope=col>&lt;dbl&gt;</th><th scope=col>&lt;dbl&gt;</th><th scope=col>&lt;dbl&gt;</th><th scope=col>&lt;dbl&gt;</th><th scope=col>&lt;int&gt;</th><th scope=col>&lt;int&gt;</th></tr>\n",
       "</thead>\n",
       "<tbody>\n",
       "\t<tr><td>covid19_severe     </td><td>A2</td><td>eur_leave_ukbb_23andme</td><td>1e-03</td><td>0.5339043</td><td>0.6148025</td><td>0.5519352</td><td> 633</td><td>336496</td></tr>\n",
       "\t<tr><td>covid19_severe     </td><td>A2</td><td>eur_leave_ukbb_23andme</td><td>1e-04</td><td>0.5407227</td><td>0.6148025</td><td>0.5738076</td><td> 633</td><td>336496</td></tr>\n",
       "\t<tr><td>covid19_severe     </td><td>A2</td><td>eur_leave_ukbb_23andme</td><td>1e-05</td><td>0.5345103</td><td>0.6148025</td><td>0.5782375</td><td> 633</td><td>336496</td></tr>\n",
       "\t<tr><td>covid19_severe     </td><td>B1</td><td>eur_leave_ukbb_23andme</td><td>1e-03</td><td>0.5290919</td><td>0.6148025</td><td>0.5449867</td><td> 633</td><td>336496</td></tr>\n",
       "\t<tr><td>covid19_severe     </td><td>B1</td><td>eur_leave_ukbb_23andme</td><td>1e-04</td><td>0.5121008</td><td>0.6148025</td><td>0.5508807</td><td> 633</td><td>336496</td></tr>\n",
       "\t<tr><td>covid19_severe     </td><td>B1</td><td>eur_leave_ukbb_23andme</td><td>1e-05</td><td>0.5322623</td><td>0.6148025</td><td>0.5993551</td><td> 633</td><td>336496</td></tr>\n",
       "\t<tr><td>covid19_severe     </td><td>B2</td><td>eur_leave_ukbb_23andme</td><td>1e-03</td><td>0.5295919</td><td>0.6148025</td><td>0.5526364</td><td> 633</td><td>336496</td></tr>\n",
       "\t<tr><td>covid19_severe     </td><td>B2</td><td>eur_leave_ukbb_23andme</td><td>1e-04</td><td>0.5372639</td><td>0.6148025</td><td>0.5767046</td><td> 633</td><td>336496</td></tr>\n",
       "\t<tr><td>covid19_severe     </td><td>B2</td><td>eur_leave_ukbb_23andme</td><td>1e-05</td><td>0.5361687</td><td>0.6148025</td><td>0.5903785</td><td> 633</td><td>336496</td></tr>\n",
       "\t<tr><td>covid19_severe     </td><td>C2</td><td>eur_leave_ukbb_23andme</td><td>1e-03</td><td>0.5204846</td><td>0.6148025</td><td>0.5657969</td><td> 633</td><td>336496</td></tr>\n",
       "\t<tr><td>covid19_severe     </td><td>C2</td><td>eur_leave_ukbb_23andme</td><td>1e-04</td><td>0.5319480</td><td>0.6148025</td><td>0.6029691</td><td> 633</td><td>336496</td></tr>\n",
       "\t<tr><td>covid19_severe     </td><td>C2</td><td>eur_leave_ukbb_23andme</td><td>1e-05</td><td>0.5313534</td><td>0.6148025</td><td>0.6162851</td><td> 633</td><td>336496</td></tr>\n",
       "\t<tr><td>covid19_test_result</td><td>A2</td><td>eur_leave_ukbb_23andme</td><td>1e-03</td><td>0.5308319</td><td>0.5831619</td><td>0.5405669</td><td>1048</td><td>336081</td></tr>\n",
       "\t<tr><td>covid19_test_result</td><td>A2</td><td>eur_leave_ukbb_23andme</td><td>1e-04</td><td>0.5330166</td><td>0.5831619</td><td>0.5527606</td><td>1048</td><td>336081</td></tr>\n",
       "\t<tr><td>covid19_test_result</td><td>A2</td><td>eur_leave_ukbb_23andme</td><td>1e-05</td><td>0.5265101</td><td>0.5831619</td><td>0.5542746</td><td>1048</td><td>336081</td></tr>\n",
       "\t<tr><td>covid19_test_result</td><td>B1</td><td>eur_leave_ukbb_23andme</td><td>1e-03</td><td>0.5234688</td><td>0.5831619</td><td>0.5322534</td><td>1048</td><td>336081</td></tr>\n",
       "\t<tr><td>covid19_test_result</td><td>B1</td><td>eur_leave_ukbb_23andme</td><td>1e-04</td><td>0.5036892</td><td>0.5831619</td><td>0.5251803</td><td>1048</td><td>336081</td></tr>\n",
       "\t<tr><td>covid19_test_result</td><td>B1</td><td>eur_leave_ukbb_23andme</td><td>1e-05</td><td>0.5166153</td><td>0.5831619</td><td>0.5576879</td><td>1048</td><td>336081</td></tr>\n",
       "\t<tr><td>covid19_test_result</td><td>B2</td><td>eur_leave_ukbb_23andme</td><td>1e-03</td><td>0.5214958</td><td>0.5831619</td><td>0.5344636</td><td>1048</td><td>336081</td></tr>\n",
       "\t<tr><td>covid19_test_result</td><td>B2</td><td>eur_leave_ukbb_23andme</td><td>1e-04</td><td>0.5323834</td><td>0.5831619</td><td>0.5554645</td><td>1048</td><td>336081</td></tr>\n",
       "\t<tr><td>covid19_test_result</td><td>B2</td><td>eur_leave_ukbb_23andme</td><td>1e-05</td><td>0.5273665</td><td>0.5831619</td><td>0.5616736</td><td>1048</td><td>336081</td></tr>\n",
       "\t<tr><td>covid19_test_result</td><td>C2</td><td>eur_leave_ukbb_23andme</td><td>1e-03</td><td>0.5168590</td><td>0.5831619</td><td>0.5423492</td><td>1048</td><td>336081</td></tr>\n",
       "\t<tr><td>covid19_test_result</td><td>C2</td><td>eur_leave_ukbb_23andme</td><td>1e-04</td><td>0.5232071</td><td>0.5831619</td><td>0.5704206</td><td>1048</td><td>336081</td></tr>\n",
       "\t<tr><td>covid19_test_result</td><td>C2</td><td>eur_leave_ukbb_23andme</td><td>1e-05</td><td>0.5263118</td><td>0.5831619</td><td>0.5840601</td><td>1048</td><td>336081</td></tr>\n",
       "</tbody>\n",
       "</table>\n"
      ],
      "text/latex": [
       "A data.table: 24 × 9\n",
       "\\begin{tabular}{lllllllll}\n",
       " UKB\\_phe & HGI\\_case\\_control & HGI\\_suffix & clump\\_p1 & geno & covar & geno\\_covar & case\\_n & control\\_n\\\\\n",
       " <chr> & <chr> & <chr> & <dbl> & <dbl> & <dbl> & <dbl> & <int> & <int>\\\\\n",
       "\\hline\n",
       "\t covid19\\_severe      & A2 & eur\\_leave\\_ukbb\\_23andme & 1e-03 & 0.5339043 & 0.6148025 & 0.5519352 &  633 & 336496\\\\\n",
       "\t covid19\\_severe      & A2 & eur\\_leave\\_ukbb\\_23andme & 1e-04 & 0.5407227 & 0.6148025 & 0.5738076 &  633 & 336496\\\\\n",
       "\t covid19\\_severe      & A2 & eur\\_leave\\_ukbb\\_23andme & 1e-05 & 0.5345103 & 0.6148025 & 0.5782375 &  633 & 336496\\\\\n",
       "\t covid19\\_severe      & B1 & eur\\_leave\\_ukbb\\_23andme & 1e-03 & 0.5290919 & 0.6148025 & 0.5449867 &  633 & 336496\\\\\n",
       "\t covid19\\_severe      & B1 & eur\\_leave\\_ukbb\\_23andme & 1e-04 & 0.5121008 & 0.6148025 & 0.5508807 &  633 & 336496\\\\\n",
       "\t covid19\\_severe      & B1 & eur\\_leave\\_ukbb\\_23andme & 1e-05 & 0.5322623 & 0.6148025 & 0.5993551 &  633 & 336496\\\\\n",
       "\t covid19\\_severe      & B2 & eur\\_leave\\_ukbb\\_23andme & 1e-03 & 0.5295919 & 0.6148025 & 0.5526364 &  633 & 336496\\\\\n",
       "\t covid19\\_severe      & B2 & eur\\_leave\\_ukbb\\_23andme & 1e-04 & 0.5372639 & 0.6148025 & 0.5767046 &  633 & 336496\\\\\n",
       "\t covid19\\_severe      & B2 & eur\\_leave\\_ukbb\\_23andme & 1e-05 & 0.5361687 & 0.6148025 & 0.5903785 &  633 & 336496\\\\\n",
       "\t covid19\\_severe      & C2 & eur\\_leave\\_ukbb\\_23andme & 1e-03 & 0.5204846 & 0.6148025 & 0.5657969 &  633 & 336496\\\\\n",
       "\t covid19\\_severe      & C2 & eur\\_leave\\_ukbb\\_23andme & 1e-04 & 0.5319480 & 0.6148025 & 0.6029691 &  633 & 336496\\\\\n",
       "\t covid19\\_severe      & C2 & eur\\_leave\\_ukbb\\_23andme & 1e-05 & 0.5313534 & 0.6148025 & 0.6162851 &  633 & 336496\\\\\n",
       "\t covid19\\_test\\_result & A2 & eur\\_leave\\_ukbb\\_23andme & 1e-03 & 0.5308319 & 0.5831619 & 0.5405669 & 1048 & 336081\\\\\n",
       "\t covid19\\_test\\_result & A2 & eur\\_leave\\_ukbb\\_23andme & 1e-04 & 0.5330166 & 0.5831619 & 0.5527606 & 1048 & 336081\\\\\n",
       "\t covid19\\_test\\_result & A2 & eur\\_leave\\_ukbb\\_23andme & 1e-05 & 0.5265101 & 0.5831619 & 0.5542746 & 1048 & 336081\\\\\n",
       "\t covid19\\_test\\_result & B1 & eur\\_leave\\_ukbb\\_23andme & 1e-03 & 0.5234688 & 0.5831619 & 0.5322534 & 1048 & 336081\\\\\n",
       "\t covid19\\_test\\_result & B1 & eur\\_leave\\_ukbb\\_23andme & 1e-04 & 0.5036892 & 0.5831619 & 0.5251803 & 1048 & 336081\\\\\n",
       "\t covid19\\_test\\_result & B1 & eur\\_leave\\_ukbb\\_23andme & 1e-05 & 0.5166153 & 0.5831619 & 0.5576879 & 1048 & 336081\\\\\n",
       "\t covid19\\_test\\_result & B2 & eur\\_leave\\_ukbb\\_23andme & 1e-03 & 0.5214958 & 0.5831619 & 0.5344636 & 1048 & 336081\\\\\n",
       "\t covid19\\_test\\_result & B2 & eur\\_leave\\_ukbb\\_23andme & 1e-04 & 0.5323834 & 0.5831619 & 0.5554645 & 1048 & 336081\\\\\n",
       "\t covid19\\_test\\_result & B2 & eur\\_leave\\_ukbb\\_23andme & 1e-05 & 0.5273665 & 0.5831619 & 0.5616736 & 1048 & 336081\\\\\n",
       "\t covid19\\_test\\_result & C2 & eur\\_leave\\_ukbb\\_23andme & 1e-03 & 0.5168590 & 0.5831619 & 0.5423492 & 1048 & 336081\\\\\n",
       "\t covid19\\_test\\_result & C2 & eur\\_leave\\_ukbb\\_23andme & 1e-04 & 0.5232071 & 0.5831619 & 0.5704206 & 1048 & 336081\\\\\n",
       "\t covid19\\_test\\_result & C2 & eur\\_leave\\_ukbb\\_23andme & 1e-05 & 0.5263118 & 0.5831619 & 0.5840601 & 1048 & 336081\\\\\n",
       "\\end{tabular}\n"
      ],
      "text/markdown": [
       "\n",
       "A data.table: 24 × 9\n",
       "\n",
       "| UKB_phe &lt;chr&gt; | HGI_case_control &lt;chr&gt; | HGI_suffix &lt;chr&gt; | clump_p1 &lt;dbl&gt; | geno &lt;dbl&gt; | covar &lt;dbl&gt; | geno_covar &lt;dbl&gt; | case_n &lt;int&gt; | control_n &lt;int&gt; |\n",
       "|---|---|---|---|---|---|---|---|---|\n",
       "| covid19_severe      | A2 | eur_leave_ukbb_23andme | 1e-03 | 0.5339043 | 0.6148025 | 0.5519352 |  633 | 336496 |\n",
       "| covid19_severe      | A2 | eur_leave_ukbb_23andme | 1e-04 | 0.5407227 | 0.6148025 | 0.5738076 |  633 | 336496 |\n",
       "| covid19_severe      | A2 | eur_leave_ukbb_23andme | 1e-05 | 0.5345103 | 0.6148025 | 0.5782375 |  633 | 336496 |\n",
       "| covid19_severe      | B1 | eur_leave_ukbb_23andme | 1e-03 | 0.5290919 | 0.6148025 | 0.5449867 |  633 | 336496 |\n",
       "| covid19_severe      | B1 | eur_leave_ukbb_23andme | 1e-04 | 0.5121008 | 0.6148025 | 0.5508807 |  633 | 336496 |\n",
       "| covid19_severe      | B1 | eur_leave_ukbb_23andme | 1e-05 | 0.5322623 | 0.6148025 | 0.5993551 |  633 | 336496 |\n",
       "| covid19_severe      | B2 | eur_leave_ukbb_23andme | 1e-03 | 0.5295919 | 0.6148025 | 0.5526364 |  633 | 336496 |\n",
       "| covid19_severe      | B2 | eur_leave_ukbb_23andme | 1e-04 | 0.5372639 | 0.6148025 | 0.5767046 |  633 | 336496 |\n",
       "| covid19_severe      | B2 | eur_leave_ukbb_23andme | 1e-05 | 0.5361687 | 0.6148025 | 0.5903785 |  633 | 336496 |\n",
       "| covid19_severe      | C2 | eur_leave_ukbb_23andme | 1e-03 | 0.5204846 | 0.6148025 | 0.5657969 |  633 | 336496 |\n",
       "| covid19_severe      | C2 | eur_leave_ukbb_23andme | 1e-04 | 0.5319480 | 0.6148025 | 0.6029691 |  633 | 336496 |\n",
       "| covid19_severe      | C2 | eur_leave_ukbb_23andme | 1e-05 | 0.5313534 | 0.6148025 | 0.6162851 |  633 | 336496 |\n",
       "| covid19_test_result | A2 | eur_leave_ukbb_23andme | 1e-03 | 0.5308319 | 0.5831619 | 0.5405669 | 1048 | 336081 |\n",
       "| covid19_test_result | A2 | eur_leave_ukbb_23andme | 1e-04 | 0.5330166 | 0.5831619 | 0.5527606 | 1048 | 336081 |\n",
       "| covid19_test_result | A2 | eur_leave_ukbb_23andme | 1e-05 | 0.5265101 | 0.5831619 | 0.5542746 | 1048 | 336081 |\n",
       "| covid19_test_result | B1 | eur_leave_ukbb_23andme | 1e-03 | 0.5234688 | 0.5831619 | 0.5322534 | 1048 | 336081 |\n",
       "| covid19_test_result | B1 | eur_leave_ukbb_23andme | 1e-04 | 0.5036892 | 0.5831619 | 0.5251803 | 1048 | 336081 |\n",
       "| covid19_test_result | B1 | eur_leave_ukbb_23andme | 1e-05 | 0.5166153 | 0.5831619 | 0.5576879 | 1048 | 336081 |\n",
       "| covid19_test_result | B2 | eur_leave_ukbb_23andme | 1e-03 | 0.5214958 | 0.5831619 | 0.5344636 | 1048 | 336081 |\n",
       "| covid19_test_result | B2 | eur_leave_ukbb_23andme | 1e-04 | 0.5323834 | 0.5831619 | 0.5554645 | 1048 | 336081 |\n",
       "| covid19_test_result | B2 | eur_leave_ukbb_23andme | 1e-05 | 0.5273665 | 0.5831619 | 0.5616736 | 1048 | 336081 |\n",
       "| covid19_test_result | C2 | eur_leave_ukbb_23andme | 1e-03 | 0.5168590 | 0.5831619 | 0.5423492 | 1048 | 336081 |\n",
       "| covid19_test_result | C2 | eur_leave_ukbb_23andme | 1e-04 | 0.5232071 | 0.5831619 | 0.5704206 | 1048 | 336081 |\n",
       "| covid19_test_result | C2 | eur_leave_ukbb_23andme | 1e-05 | 0.5263118 | 0.5831619 | 0.5840601 | 1048 | 336081 |\n",
       "\n"
      ],
      "text/plain": [
       "   UKB_phe             HGI_case_control HGI_suffix             clump_p1\n",
       "1  covid19_severe      A2               eur_leave_ukbb_23andme 1e-03   \n",
       "2  covid19_severe      A2               eur_leave_ukbb_23andme 1e-04   \n",
       "3  covid19_severe      A2               eur_leave_ukbb_23andme 1e-05   \n",
       "4  covid19_severe      B1               eur_leave_ukbb_23andme 1e-03   \n",
       "5  covid19_severe      B1               eur_leave_ukbb_23andme 1e-04   \n",
       "6  covid19_severe      B1               eur_leave_ukbb_23andme 1e-05   \n",
       "7  covid19_severe      B2               eur_leave_ukbb_23andme 1e-03   \n",
       "8  covid19_severe      B2               eur_leave_ukbb_23andme 1e-04   \n",
       "9  covid19_severe      B2               eur_leave_ukbb_23andme 1e-05   \n",
       "10 covid19_severe      C2               eur_leave_ukbb_23andme 1e-03   \n",
       "11 covid19_severe      C2               eur_leave_ukbb_23andme 1e-04   \n",
       "12 covid19_severe      C2               eur_leave_ukbb_23andme 1e-05   \n",
       "13 covid19_test_result A2               eur_leave_ukbb_23andme 1e-03   \n",
       "14 covid19_test_result A2               eur_leave_ukbb_23andme 1e-04   \n",
       "15 covid19_test_result A2               eur_leave_ukbb_23andme 1e-05   \n",
       "16 covid19_test_result B1               eur_leave_ukbb_23andme 1e-03   \n",
       "17 covid19_test_result B1               eur_leave_ukbb_23andme 1e-04   \n",
       "18 covid19_test_result B1               eur_leave_ukbb_23andme 1e-05   \n",
       "19 covid19_test_result B2               eur_leave_ukbb_23andme 1e-03   \n",
       "20 covid19_test_result B2               eur_leave_ukbb_23andme 1e-04   \n",
       "21 covid19_test_result B2               eur_leave_ukbb_23andme 1e-05   \n",
       "22 covid19_test_result C2               eur_leave_ukbb_23andme 1e-03   \n",
       "23 covid19_test_result C2               eur_leave_ukbb_23andme 1e-04   \n",
       "24 covid19_test_result C2               eur_leave_ukbb_23andme 1e-05   \n",
       "   geno      covar     geno_covar case_n control_n\n",
       "1  0.5339043 0.6148025 0.5519352   633   336496   \n",
       "2  0.5407227 0.6148025 0.5738076   633   336496   \n",
       "3  0.5345103 0.6148025 0.5782375   633   336496   \n",
       "4  0.5290919 0.6148025 0.5449867   633   336496   \n",
       "5  0.5121008 0.6148025 0.5508807   633   336496   \n",
       "6  0.5322623 0.6148025 0.5993551   633   336496   \n",
       "7  0.5295919 0.6148025 0.5526364   633   336496   \n",
       "8  0.5372639 0.6148025 0.5767046   633   336496   \n",
       "9  0.5361687 0.6148025 0.5903785   633   336496   \n",
       "10 0.5204846 0.6148025 0.5657969   633   336496   \n",
       "11 0.5319480 0.6148025 0.6029691   633   336496   \n",
       "12 0.5313534 0.6148025 0.6162851   633   336496   \n",
       "13 0.5308319 0.5831619 0.5405669  1048   336081   \n",
       "14 0.5330166 0.5831619 0.5527606  1048   336081   \n",
       "15 0.5265101 0.5831619 0.5542746  1048   336081   \n",
       "16 0.5234688 0.5831619 0.5322534  1048   336081   \n",
       "17 0.5036892 0.5831619 0.5251803  1048   336081   \n",
       "18 0.5166153 0.5831619 0.5576879  1048   336081   \n",
       "19 0.5214958 0.5831619 0.5344636  1048   336081   \n",
       "20 0.5323834 0.5831619 0.5554645  1048   336081   \n",
       "21 0.5273665 0.5831619 0.5616736  1048   336081   \n",
       "22 0.5168590 0.5831619 0.5423492  1048   336081   \n",
       "23 0.5232071 0.5831619 0.5704206  1048   336081   \n",
       "24 0.5263118 0.5831619 0.5840601  1048   336081   "
      ]
     },
     "metadata": {},
     "output_type": "display_data"
    }
   ],
   "source": [
    "df %>%\n",
    "filter(HGI_suffix == 'eur_leave_ukbb_23andme')"
   ]
  },
  {
   "cell_type": "code",
   "execution_count": null,
   "id": "knowing-prime",
   "metadata": {},
   "outputs": [],
   "source": []
  }
 ],
 "metadata": {
  "kernelspec": {
   "display_name": "R",
   "language": "R",
   "name": "ir"
  },
  "language_info": {
   "codemirror_mode": "r",
   "file_extension": ".r",
   "mimetype": "text/x-r-source",
   "name": "R",
   "pygments_lexer": "r",
   "version": "3.6.2"
  }
 },
 "nbformat": 4,
 "nbformat_minor": 5
}
