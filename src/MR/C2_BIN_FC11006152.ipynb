{
 "cells": [
  {
   "cell_type": "code",
   "execution_count": 1,
   "metadata": {},
   "outputs": [],
   "source": [
    "suppressWarnings(suppressPackageStartupMessages({\n",
    "    library(tidyverse)\n",
    "    library(data.table)\n",
    "}))\n"
   ]
  },
  {
   "cell_type": "code",
   "execution_count": 1,
   "metadata": {},
   "outputs": [],
   "source": [
    "source('../0_parameters.sh')\n",
    "\n",
    "source('../PRS_PheWAS.functions.R')\n",
    "\n",
    "source('MR_functions.R')\n"
   ]
  },
  {
   "cell_type": "code",
   "execution_count": 2,
   "metadata": {},
   "outputs": [],
   "source": [
    "ukb_array_combined_annot_f %>%\n",
    "fread(select=c('ID', 'ld_indep')) -> annot_df\n"
   ]
  },
  {
   "cell_type": "code",
   "execution_count": 40,
   "metadata": {},
   "outputs": [],
   "source": [
    "HGI_cc <- 'C2'\n",
    "HGI_sx <- 'eur_leave_ukbb_23andme'\n",
    "GBE_ID <- 'BIN_FC11006152' #Blood clot or DVT diagnosed by doctor\n",
    "p_thr <- 5e-8"
   ]
  },
  {
   "cell_type": "code",
   "execution_count": 4,
   "metadata": {},
   "outputs": [],
   "source": [
    "file.path(data_d, 'plink_format_UKB_cal', UKB_cal_f) %>%\n",
    "str_replace('@@HGI_case_control@@', HGI_cc) %>%\n",
    "str_replace('@@HGI_suffix@@', HGI_sx) %>%\n",
    "read_sumstats() -> hgi_df\n"
   ]
  },
  {
   "cell_type": "code",
   "execution_count": 5,
   "metadata": {},
   "outputs": [],
   "source": [
    "file.path(data_scratch_d, 'UKB_MR', 'sumstats', sprintf('%s.p1e-5.tsv.gz', GBE_ID)) %>%\n",
    "read_sumstats() %>%\n",
    "filter(log10P < log10(p_thr)) -> ukb_df\n"
   ]
  },
  {
   "cell_type": "code",
   "execution_count": 6,
   "metadata": {},
   "outputs": [],
   "source": [
    "if(! 'BETA' %in% names(ukb_df)){\n",
    "    ukb_df %>%\n",
    "    mutate(BETA = log(OR)) %>%\n",
    "    rename('SE'='LOG(OR)_SE') -> ukb_df\n",
    "}\n"
   ]
  },
  {
   "cell_type": "code",
   "execution_count": 7,
   "metadata": {},
   "outputs": [],
   "source": [
    "ukb_df %>%\n",
    "filter(\n",
    "    ID %in% (annot_df %>% filter(ld_indep == T) %>% pull(ID))\n",
    ") %>%\n",
    "join_ukb_hgi(hgi_df) -> df\n"
   ]
  },
  {
   "cell_type": "code",
   "execution_count": 8,
   "metadata": {},
   "outputs": [
    {
     "data": {
      "text/html": [
       "<style>\n",
       ".list-inline {list-style: none; margin:0; padding: 0}\n",
       ".list-inline>li {display: inline-block}\n",
       ".list-inline>li:not(:last-child)::after {content: \"\\00b7\"; padding: 0 .5ex}\n",
       "</style>\n",
       "<ol class=list-inline><li>32</li><li>26</li></ol>\n"
      ],
      "text/latex": [
       "\\begin{enumerate*}\n",
       "\\item 32\n",
       "\\item 26\n",
       "\\end{enumerate*}\n"
      ],
      "text/markdown": [
       "1. 32\n",
       "2. 26\n",
       "\n",
       "\n"
      ],
      "text/plain": [
       "[1] 32 26"
      ]
     },
     "metadata": {},
     "output_type": "display_data"
    }
   ],
   "source": [
    "df %>% dim()"
   ]
  },
  {
   "cell_type": "code",
   "execution_count": 9,
   "metadata": {},
   "outputs": [
    {
     "data": {
      "text/html": [
       "<table>\n",
       "<caption>A data.frame: 1 × 9</caption>\n",
       "<thead>\n",
       "\t<tr><th scope=col>variable</th><th scope=col>estimate</th><th scope=col>SE</th><th scope=col>z_or_t_value</th><th scope=col>P</th><th scope=col>method</th><th scope=col>HGI_case_control</th><th scope=col>HGI_suffix</th><th scope=col>trait</th></tr>\n",
       "\t<tr><th scope=col>&lt;chr&gt;</th><th scope=col>&lt;dbl&gt;</th><th scope=col>&lt;dbl&gt;</th><th scope=col>&lt;dbl&gt;</th><th scope=col>&lt;dbl&gt;</th><th scope=col>&lt;chr&gt;</th><th scope=col>&lt;chr&gt;</th><th scope=col>&lt;chr&gt;</th><th scope=col>&lt;chr&gt;</th></tr>\n",
       "</thead>\n",
       "<tbody>\n",
       "\t<tr><td>BETA_ukb</td><td>0.07440127</td><td>0.02350923</td><td>3.164768</td><td>0.003467648</td><td>IVW</td><td>C2</td><td>eur_leave_ukbb_23andme</td><td>BIN_FC11006152</td></tr>\n",
       "</tbody>\n",
       "</table>\n"
      ],
      "text/latex": [
       "A data.frame: 1 × 9\n",
       "\\begin{tabular}{lllllllll}\n",
       " variable & estimate & SE & z\\_or\\_t\\_value & P & method & HGI\\_case\\_control & HGI\\_suffix & trait\\\\\n",
       " <chr> & <dbl> & <dbl> & <dbl> & <dbl> & <chr> & <chr> & <chr> & <chr>\\\\\n",
       "\\hline\n",
       "\t BETA\\_ukb & 0.07440127 & 0.02350923 & 3.164768 & 0.003467648 & IVW & C2 & eur\\_leave\\_ukbb\\_23andme & BIN\\_FC11006152\\\\\n",
       "\\end{tabular}\n"
      ],
      "text/markdown": [
       "\n",
       "A data.frame: 1 × 9\n",
       "\n",
       "| variable &lt;chr&gt; | estimate &lt;dbl&gt; | SE &lt;dbl&gt; | z_or_t_value &lt;dbl&gt; | P &lt;dbl&gt; | method &lt;chr&gt; | HGI_case_control &lt;chr&gt; | HGI_suffix &lt;chr&gt; | trait &lt;chr&gt; |\n",
       "|---|---|---|---|---|---|---|---|---|\n",
       "| BETA_ukb | 0.07440127 | 0.02350923 | 3.164768 | 0.003467648 | IVW | C2 | eur_leave_ukbb_23andme | BIN_FC11006152 |\n",
       "\n"
      ],
      "text/plain": [
       "  variable estimate   SE         z_or_t_value P           method\n",
       "1 BETA_ukb 0.07440127 0.02350923 3.164768     0.003467648 IVW   \n",
       "  HGI_case_control HGI_suffix             trait         \n",
       "1 C2               eur_leave_ukbb_23andme BIN_FC11006152"
      ]
     },
     "metadata": {},
     "output_type": "display_data"
    }
   ],
   "source": [
    "bind_rows(\n",
    "    lm(BETA_hgi ~ 0 + BETA_ukb, df, weights = (df$SE_hgi ** (-2))) %>% fit_to_df() %>%\n",
    "    mutate(method = 'IVW')\n",
    ") %>%\n",
    "mutate(\n",
    "    HGI_case_control = HGI_cc,\n",
    "    HGI_suffix = HGI_sx,\n",
    "    trait = GBE_ID\n",
    ") \n",
    "# %>%\n",
    "# select(HGI_case_control, HGI_suffix, trait, method, variable, estimate, SE, z_or_t_value, P)"
   ]
  },
  {
   "cell_type": "code",
   "execution_count": 16,
   "metadata": {},
   "outputs": [],
   "source": [
    "plot_beta_vs_beta <- function(df, lmfit){\n",
    "    df %>% ggplot(aes(x = BETA_ukb, y = BETA_hgi)) + \n",
    "    geom_abline(\n",
    "        slope = (lmfit)$coefficients[['BETA_ukb']],\n",
    "        color='red', alpha=.5\n",
    "    ) + \n",
    "    geom_point(alpha=.1) +\n",
    "    theme_bw()\n",
    "}\n"
   ]
  },
  {
   "cell_type": "code",
   "execution_count": 10,
   "metadata": {},
   "outputs": [],
   "source": [
    "lmfit <- lm(BETA_hgi ~ 0 + BETA_ukb, df, weights = (df$SE_hgi ** (-2)))"
   ]
  },
  {
   "cell_type": "code",
   "execution_count": 27,
   "metadata": {},
   "outputs": [
    {
     "data": {
      "text/html": [
       "<table>\n",
       "<caption>A data.frame: 1 × 5</caption>\n",
       "<thead>\n",
       "\t<tr><th scope=col>variable</th><th scope=col>estimate</th><th scope=col>SE</th><th scope=col>z_or_t_value</th><th scope=col>P</th></tr>\n",
       "\t<tr><th scope=col>&lt;chr&gt;</th><th scope=col>&lt;dbl&gt;</th><th scope=col>&lt;dbl&gt;</th><th scope=col>&lt;dbl&gt;</th><th scope=col>&lt;dbl&gt;</th></tr>\n",
       "</thead>\n",
       "<tbody>\n",
       "\t<tr><td>BETA_ukb</td><td>0.0629811</td><td>0.02339049</td><td>2.692594</td><td>0.01224045</td></tr>\n",
       "</tbody>\n",
       "</table>\n"
      ],
      "text/latex": [
       "A data.frame: 1 × 5\n",
       "\\begin{tabular}{lllll}\n",
       " variable & estimate & SE & z\\_or\\_t\\_value & P\\\\\n",
       " <chr> & <dbl> & <dbl> & <dbl> & <dbl>\\\\\n",
       "\\hline\n",
       "\t BETA\\_ukb & 0.0629811 & 0.02339049 & 2.692594 & 0.01224045\\\\\n",
       "\\end{tabular}\n"
      ],
      "text/markdown": [
       "\n",
       "A data.frame: 1 × 5\n",
       "\n",
       "| variable &lt;chr&gt; | estimate &lt;dbl&gt; | SE &lt;dbl&gt; | z_or_t_value &lt;dbl&gt; | P &lt;dbl&gt; |\n",
       "|---|---|---|---|---|\n",
       "| BETA_ukb | 0.0629811 | 0.02339049 | 2.692594 | 0.01224045 |\n",
       "\n"
      ],
      "text/plain": [
       "  variable estimate  SE         z_or_t_value P         \n",
       "1 BETA_ukb 0.0629811 0.02339049 2.692594     0.01224045"
      ]
     },
     "metadata": {},
     "output_type": "display_data"
    }
   ],
   "source": [
    "fit_to_df(lmfit)"
   ]
  },
  {
   "cell_type": "code",
   "execution_count": 11,
   "metadata": {},
   "outputs": [
    {
     "data": {
      "text/plain": [
       "\n",
       "Call:\n",
       "lm(formula = BETA_hgi ~ 0 + BETA_ukb, data = df, weights = (df$SE_hgi^(-2)))\n",
       "\n",
       "Weighted Residuals:\n",
       "    Min      1Q  Median      3Q     Max \n",
       "-4.4391 -1.2815 -0.5375  0.1114  1.8607 \n",
       "\n",
       "Coefficients:\n",
       "         Estimate Std. Error t value Pr(>|t|)   \n",
       "BETA_ukb  0.07440    0.02351   3.165  0.00347 **\n",
       "---\n",
       "Signif. codes:  0 ‘***’ 0.001 ‘**’ 0.01 ‘*’ 0.05 ‘.’ 0.1 ‘ ’ 1\n",
       "\n",
       "Residual standard error: 1.466 on 31 degrees of freedom\n",
       "Multiple R-squared:  0.2442,\tAdjusted R-squared:  0.2198 \n",
       "F-statistic: 10.02 on 1 and 31 DF,  p-value: 0.003468\n"
      ]
     },
     "metadata": {},
     "output_type": "display_data"
    }
   ],
   "source": [
    "summary(lmfit) "
   ]
  },
  {
   "cell_type": "code",
   "execution_count": 12,
   "metadata": {},
   "outputs": [
    {
     "data": {
      "text/html": [
       "0.0653310411855793"
      ],
      "text/latex": [
       "0.0653310411855793"
      ],
      "text/markdown": [
       "0.0653310411855793"
      ],
      "text/plain": [
       "[1] 0.06533104"
      ]
     },
     "metadata": {},
     "output_type": "display_data"
    }
   ],
   "source": [
    "compute_IVW_estimate(df)"
   ]
  },
  {
   "cell_type": "code",
   "execution_count": 27,
   "metadata": {},
   "outputs": [
    {
     "data": {
      "text/html": [
       "'7.44e-02'"
      ],
      "text/latex": [
       "'7.44e-02'"
      ],
      "text/markdown": [
       "'7.44e-02'"
      ],
      "text/plain": [
       "[1] \"7.44e-02\""
      ]
     },
     "metadata": {},
     "output_type": "display_data"
    }
   ],
   "source": [
    "sprintf('%.2e', (lmfit)$coefficients[['BETA_ukb']])"
   ]
  },
  {
   "cell_type": "code",
   "execution_count": null,
   "metadata": {},
   "outputs": [],
   "source": [
    "df %>% ggplot(aes(x = BETA_ukb, y = BETA_hgi)) + \n",
    "geom_abline(\n",
    "    slope = (lmfit)$coefficients[['BETA_ukb']],\n",
    "    color='red', alpha=.5\n",
    ") + \n",
    "geom_errorbar( aes(ymin = BETA_hgi-SE_hgi,  ymax = BETA_hgi+SE_hgi),  alpha=.2) +\n",
    "geom_errorbarh(aes(xmin = BETA_ukb-SE_ukb,  xmax = BETA_ukb+SE_ukb),  alpha=.2) +\n",
    "geom_point(alpha=.5) +\n",
    "theme_bw(base_size=16) + \n",
    "labs(\n",
    "    title = sprintf(\n",
    "        'MR (%s)\\nIVW estimate: %.2e, p = %.2e',\n",
    "        HGI_sx,\n",
    "        (lmfit)$coefficients[['BETA_ukb']],\n",
    "        fit_to_df(lmfit) %>% pull(P)\n",
    "    ),\n",
    "    y = sprintf('BETA[SE] HGI (%s)', HGI_cc),\n",
    "    x = sprintf('BETA[SE] UKB (%s)', GBE_ID)\n",
    ") -> p\n"
   ]
  },
  {
   "cell_type": "code",
   "execution_count": 41,
   "metadata": {},
   "outputs": [],
   "source": [
    "df %>% ggplot(aes(x = BETA_ukb, y = BETA_hgi)) + \n",
    "geom_abline(\n",
    "    slope = (lmfit)$coefficients[['BETA_ukb']],\n",
    "    color='red', alpha=.5\n",
    ") + \n",
    "geom_errorbar( aes(ymin = BETA_hgi-SE_hgi,  ymax = BETA_hgi+SE_hgi),  alpha=.2) +\n",
    "geom_errorbarh(aes(xmin = BETA_ukb-SE_ukb,  xmax = BETA_ukb+SE_ukb),  alpha=.2) +\n",
    "geom_point(alpha=.5) +\n",
    "theme_bw(base_size=16) + \n",
    "labs(\n",
    "    title = sprintf(\n",
    "        'MR (%s)\\nIVW estimate: %.2e, p = %.2e',\n",
    "        HGI_sx,\n",
    "        (lmfit)$coefficients[['BETA_ukb']],\n",
    "        fit_to_df(lmfit) %>% pull(P)\n",
    "    ),\n",
    "    y = sprintf('BETA[SE] HGI (%s)', HGI_cc),\n",
    "    x = sprintf('BETA[SE] UKB (%s)\\n%s', GBE_ID, 'Blood clot or DVT diagnosed by doctor')\n",
    ") -> p\n"
   ]
  },
  {
   "cell_type": "code",
   "execution_count": 43,
   "metadata": {},
   "outputs": [],
   "source": [
    "ggsave(sprintf('%s.%s.%s.png', HGI_cc, HGI_sx, GBE_ID), p, height=8, width=8)\n",
    "ggsave(sprintf('%s.%s.%s.pdf', HGI_cc, HGI_sx, GBE_ID), p, height=8, width=8)"
   ]
  },
  {
   "cell_type": "code",
   "execution_count": null,
   "metadata": {},
   "outputs": [],
   "source": []
  }
 ],
 "metadata": {
  "kernelspec": {
   "display_name": "R",
   "language": "R",
   "name": "ir"
  },
  "language_info": {
   "codemirror_mode": "r",
   "file_extension": ".r",
   "mimetype": "text/x-r-source",
   "name": "R",
   "pygments_lexer": "r",
   "version": "3.6.2"
  }
 },
 "nbformat": 4,
 "nbformat_minor": 4
}
