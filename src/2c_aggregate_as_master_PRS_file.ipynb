{
 "cells": [
  {
   "cell_type": "code",
   "execution_count": 1,
   "id": "backed-appearance",
   "metadata": {},
   "outputs": [],
   "source": [
    "suppressWarnings(suppressPackageStartupMessages({\n",
    "    library(tidyverse)\n",
    "    library(data.table)\n",
    "}))\n"
   ]
  },
  {
   "cell_type": "markdown",
   "id": "grateful-anniversary",
   "metadata": {},
   "source": [
    "Here, we aggregate the PRS scores computed on UK Biobank individuals into one file\n",
    "\n",
    "The resulting file has `FID` and `IID` (as the indentifier for individuals) as well as PRS score columns for each model.\n",
    "\n",
    "All models are derived by applying LD clumping on HGI meta-analyzed summary statistics\n"
   ]
  },
  {
   "cell_type": "code",
   "execution_count": 2,
   "id": "superb-farmer",
   "metadata": {},
   "outputs": [],
   "source": [
    "source('0_parameters.sh')\n"
   ]
  },
  {
   "cell_type": "code",
   "execution_count": 3,
   "id": "liked-cement",
   "metadata": {},
   "outputs": [],
   "source": [
    "HGI_case_controls <- c('A2', 'B1', 'B2', 'C2')\n",
    "HGI_suffices <- c('leave_23andme', 'leave_UKBB_23andme', 'eur_leave_23andme', 'eur_leave_ukbb_23andme')\n",
    "clump_p1s <- c('1e-3', '1e-4', '1e-5')\n"
   ]
  },
  {
   "cell_type": "code",
   "execution_count": 4,
   "id": "surgical-tackle",
   "metadata": {},
   "outputs": [],
   "source": [
    "HGI_case_control <- 'B2'\n",
    "HGI_suffix <- 'eur_leave_ukbb_23andme'\n",
    "clump_p1 <- '1e-5'"
   ]
  },
  {
   "cell_type": "code",
   "execution_count": 18,
   "id": "later-finnish",
   "metadata": {},
   "outputs": [],
   "source": [
    "lapply(HGI_suffices, function(HGI_suffix){\n",
    "lapply(HGI_case_controls, function(HGI_case_control){\n",
    "lapply(clump_p1s, function(clump_p1){\n",
    "\n",
    "    file.path(data_d, 'UKB_PRS_clump', UKB_cal_f) %>%\n",
    "    str_replace('.tsv.gz$', paste0('.clump', clump_p1, '.sscore.zst')) %>%\n",
    "    str_replace('@@HGI_case_control@@', HGI_case_control) %>%\n",
    "    str_replace('@@HGI_suffix@@', HGI_suffix) -> PRS_f\n",
    "\n",
    "    fread(\n",
    "        cmd=paste('zstdcat', PRS_f),\n",
    "        colClasses = c('#FID'='character', 'IID'='character'),\n",
    "        select=c('#FID', 'IID', 'SCORE1_SUM')\n",
    "    ) %>%\n",
    "    rename('FID'='#FID') %>%\n",
    "    rename(!!paste('PRS', HGI_case_control, HGI_suffix, clump_p1, sep='.') := 'SCORE1_SUM')\n",
    "    \n",
    "}) %>% reduce(function(x, y){inner_join(x, y, by=c('FID', 'IID'))})\n",
    "}) %>% reduce(function(x, y){inner_join(x, y, by=c('FID', 'IID'))})\n",
    "}) %>% reduce(function(x, y){inner_join(x, y, by=c('FID', 'IID'))}) -> PRS_df\n"
   ]
  },
  {
   "cell_type": "code",
   "execution_count": 24,
   "id": "animated-burke",
   "metadata": {},
   "outputs": [
    {
     "data": {
      "text/html": [
       "<style>\n",
       ".list-inline {list-style: none; margin:0; padding: 0}\n",
       ".list-inline>li {display: inline-block}\n",
       ".list-inline>li:not(:last-child)::after {content: \"\\00b7\"; padding: 0 .5ex}\n",
       "</style>\n",
       "<ol class=list-inline><li>'FID'</li><li>'IID'</li><li>'PRS.A2.leave_23andme.1e-3'</li><li>'PRS.A2.leave_23andme.1e-4'</li><li>'PRS.A2.leave_23andme.1e-5'</li><li>'PRS.B1.leave_23andme.1e-3'</li><li>'PRS.B1.leave_23andme.1e-4'</li><li>'PRS.B1.leave_23andme.1e-5'</li><li>'PRS.B2.leave_23andme.1e-3'</li><li>'PRS.B2.leave_23andme.1e-4'</li><li>'PRS.B2.leave_23andme.1e-5'</li><li>'PRS.C2.leave_23andme.1e-3'</li><li>'PRS.C2.leave_23andme.1e-4'</li><li>'PRS.C2.leave_23andme.1e-5'</li><li>'PRS.A2.leave_UKBB_23andme.1e-3'</li><li>'PRS.A2.leave_UKBB_23andme.1e-4'</li><li>'PRS.A2.leave_UKBB_23andme.1e-5'</li><li>'PRS.B1.leave_UKBB_23andme.1e-3'</li><li>'PRS.B1.leave_UKBB_23andme.1e-4'</li><li>'PRS.B1.leave_UKBB_23andme.1e-5'</li><li>'PRS.B2.leave_UKBB_23andme.1e-3'</li><li>'PRS.B2.leave_UKBB_23andme.1e-4'</li><li>'PRS.B2.leave_UKBB_23andme.1e-5'</li><li>'PRS.C2.leave_UKBB_23andme.1e-3'</li><li>'PRS.C2.leave_UKBB_23andme.1e-4'</li><li>'PRS.C2.leave_UKBB_23andme.1e-5'</li><li>'PRS.A2.eur_leave_23andme.1e-3'</li><li>'PRS.A2.eur_leave_23andme.1e-4'</li><li>'PRS.A2.eur_leave_23andme.1e-5'</li><li>'PRS.B1.eur_leave_23andme.1e-3'</li><li>'PRS.B1.eur_leave_23andme.1e-4'</li><li>'PRS.B1.eur_leave_23andme.1e-5'</li><li>'PRS.B2.eur_leave_23andme.1e-3'</li><li>'PRS.B2.eur_leave_23andme.1e-4'</li><li>'PRS.B2.eur_leave_23andme.1e-5'</li><li>'PRS.C2.eur_leave_23andme.1e-3'</li><li>'PRS.C2.eur_leave_23andme.1e-4'</li><li>'PRS.C2.eur_leave_23andme.1e-5'</li><li>'PRS.A2.eur_leave_ukbb_23andme.1e-3'</li><li>'PRS.A2.eur_leave_ukbb_23andme.1e-4'</li><li>'PRS.A2.eur_leave_ukbb_23andme.1e-5'</li><li>'PRS.B1.eur_leave_ukbb_23andme.1e-3'</li><li>'PRS.B1.eur_leave_ukbb_23andme.1e-4'</li><li>'PRS.B1.eur_leave_ukbb_23andme.1e-5'</li><li>'PRS.B2.eur_leave_ukbb_23andme.1e-3'</li><li>'PRS.B2.eur_leave_ukbb_23andme.1e-4'</li><li>'PRS.B2.eur_leave_ukbb_23andme.1e-5'</li><li>'PRS.C2.eur_leave_ukbb_23andme.1e-3'</li><li>'PRS.C2.eur_leave_ukbb_23andme.1e-4'</li><li>'PRS.C2.eur_leave_ukbb_23andme.1e-5'</li></ol>\n"
      ],
      "text/latex": [
       "\\begin{enumerate*}\n",
       "\\item 'FID'\n",
       "\\item 'IID'\n",
       "\\item 'PRS.A2.leave\\_23andme.1e-3'\n",
       "\\item 'PRS.A2.leave\\_23andme.1e-4'\n",
       "\\item 'PRS.A2.leave\\_23andme.1e-5'\n",
       "\\item 'PRS.B1.leave\\_23andme.1e-3'\n",
       "\\item 'PRS.B1.leave\\_23andme.1e-4'\n",
       "\\item 'PRS.B1.leave\\_23andme.1e-5'\n",
       "\\item 'PRS.B2.leave\\_23andme.1e-3'\n",
       "\\item 'PRS.B2.leave\\_23andme.1e-4'\n",
       "\\item 'PRS.B2.leave\\_23andme.1e-5'\n",
       "\\item 'PRS.C2.leave\\_23andme.1e-3'\n",
       "\\item 'PRS.C2.leave\\_23andme.1e-4'\n",
       "\\item 'PRS.C2.leave\\_23andme.1e-5'\n",
       "\\item 'PRS.A2.leave\\_UKBB\\_23andme.1e-3'\n",
       "\\item 'PRS.A2.leave\\_UKBB\\_23andme.1e-4'\n",
       "\\item 'PRS.A2.leave\\_UKBB\\_23andme.1e-5'\n",
       "\\item 'PRS.B1.leave\\_UKBB\\_23andme.1e-3'\n",
       "\\item 'PRS.B1.leave\\_UKBB\\_23andme.1e-4'\n",
       "\\item 'PRS.B1.leave\\_UKBB\\_23andme.1e-5'\n",
       "\\item 'PRS.B2.leave\\_UKBB\\_23andme.1e-3'\n",
       "\\item 'PRS.B2.leave\\_UKBB\\_23andme.1e-4'\n",
       "\\item 'PRS.B2.leave\\_UKBB\\_23andme.1e-5'\n",
       "\\item 'PRS.C2.leave\\_UKBB\\_23andme.1e-3'\n",
       "\\item 'PRS.C2.leave\\_UKBB\\_23andme.1e-4'\n",
       "\\item 'PRS.C2.leave\\_UKBB\\_23andme.1e-5'\n",
       "\\item 'PRS.A2.eur\\_leave\\_23andme.1e-3'\n",
       "\\item 'PRS.A2.eur\\_leave\\_23andme.1e-4'\n",
       "\\item 'PRS.A2.eur\\_leave\\_23andme.1e-5'\n",
       "\\item 'PRS.B1.eur\\_leave\\_23andme.1e-3'\n",
       "\\item 'PRS.B1.eur\\_leave\\_23andme.1e-4'\n",
       "\\item 'PRS.B1.eur\\_leave\\_23andme.1e-5'\n",
       "\\item 'PRS.B2.eur\\_leave\\_23andme.1e-3'\n",
       "\\item 'PRS.B2.eur\\_leave\\_23andme.1e-4'\n",
       "\\item 'PRS.B2.eur\\_leave\\_23andme.1e-5'\n",
       "\\item 'PRS.C2.eur\\_leave\\_23andme.1e-3'\n",
       "\\item 'PRS.C2.eur\\_leave\\_23andme.1e-4'\n",
       "\\item 'PRS.C2.eur\\_leave\\_23andme.1e-5'\n",
       "\\item 'PRS.A2.eur\\_leave\\_ukbb\\_23andme.1e-3'\n",
       "\\item 'PRS.A2.eur\\_leave\\_ukbb\\_23andme.1e-4'\n",
       "\\item 'PRS.A2.eur\\_leave\\_ukbb\\_23andme.1e-5'\n",
       "\\item 'PRS.B1.eur\\_leave\\_ukbb\\_23andme.1e-3'\n",
       "\\item 'PRS.B1.eur\\_leave\\_ukbb\\_23andme.1e-4'\n",
       "\\item 'PRS.B1.eur\\_leave\\_ukbb\\_23andme.1e-5'\n",
       "\\item 'PRS.B2.eur\\_leave\\_ukbb\\_23andme.1e-3'\n",
       "\\item 'PRS.B2.eur\\_leave\\_ukbb\\_23andme.1e-4'\n",
       "\\item 'PRS.B2.eur\\_leave\\_ukbb\\_23andme.1e-5'\n",
       "\\item 'PRS.C2.eur\\_leave\\_ukbb\\_23andme.1e-3'\n",
       "\\item 'PRS.C2.eur\\_leave\\_ukbb\\_23andme.1e-4'\n",
       "\\item 'PRS.C2.eur\\_leave\\_ukbb\\_23andme.1e-5'\n",
       "\\end{enumerate*}\n"
      ],
      "text/markdown": [
       "1. 'FID'\n",
       "2. 'IID'\n",
       "3. 'PRS.A2.leave_23andme.1e-3'\n",
       "4. 'PRS.A2.leave_23andme.1e-4'\n",
       "5. 'PRS.A2.leave_23andme.1e-5'\n",
       "6. 'PRS.B1.leave_23andme.1e-3'\n",
       "7. 'PRS.B1.leave_23andme.1e-4'\n",
       "8. 'PRS.B1.leave_23andme.1e-5'\n",
       "9. 'PRS.B2.leave_23andme.1e-3'\n",
       "10. 'PRS.B2.leave_23andme.1e-4'\n",
       "11. 'PRS.B2.leave_23andme.1e-5'\n",
       "12. 'PRS.C2.leave_23andme.1e-3'\n",
       "13. 'PRS.C2.leave_23andme.1e-4'\n",
       "14. 'PRS.C2.leave_23andme.1e-5'\n",
       "15. 'PRS.A2.leave_UKBB_23andme.1e-3'\n",
       "16. 'PRS.A2.leave_UKBB_23andme.1e-4'\n",
       "17. 'PRS.A2.leave_UKBB_23andme.1e-5'\n",
       "18. 'PRS.B1.leave_UKBB_23andme.1e-3'\n",
       "19. 'PRS.B1.leave_UKBB_23andme.1e-4'\n",
       "20. 'PRS.B1.leave_UKBB_23andme.1e-5'\n",
       "21. 'PRS.B2.leave_UKBB_23andme.1e-3'\n",
       "22. 'PRS.B2.leave_UKBB_23andme.1e-4'\n",
       "23. 'PRS.B2.leave_UKBB_23andme.1e-5'\n",
       "24. 'PRS.C2.leave_UKBB_23andme.1e-3'\n",
       "25. 'PRS.C2.leave_UKBB_23andme.1e-4'\n",
       "26. 'PRS.C2.leave_UKBB_23andme.1e-5'\n",
       "27. 'PRS.A2.eur_leave_23andme.1e-3'\n",
       "28. 'PRS.A2.eur_leave_23andme.1e-4'\n",
       "29. 'PRS.A2.eur_leave_23andme.1e-5'\n",
       "30. 'PRS.B1.eur_leave_23andme.1e-3'\n",
       "31. 'PRS.B1.eur_leave_23andme.1e-4'\n",
       "32. 'PRS.B1.eur_leave_23andme.1e-5'\n",
       "33. 'PRS.B2.eur_leave_23andme.1e-3'\n",
       "34. 'PRS.B2.eur_leave_23andme.1e-4'\n",
       "35. 'PRS.B2.eur_leave_23andme.1e-5'\n",
       "36. 'PRS.C2.eur_leave_23andme.1e-3'\n",
       "37. 'PRS.C2.eur_leave_23andme.1e-4'\n",
       "38. 'PRS.C2.eur_leave_23andme.1e-5'\n",
       "39. 'PRS.A2.eur_leave_ukbb_23andme.1e-3'\n",
       "40. 'PRS.A2.eur_leave_ukbb_23andme.1e-4'\n",
       "41. 'PRS.A2.eur_leave_ukbb_23andme.1e-5'\n",
       "42. 'PRS.B1.eur_leave_ukbb_23andme.1e-3'\n",
       "43. 'PRS.B1.eur_leave_ukbb_23andme.1e-4'\n",
       "44. 'PRS.B1.eur_leave_ukbb_23andme.1e-5'\n",
       "45. 'PRS.B2.eur_leave_ukbb_23andme.1e-3'\n",
       "46. 'PRS.B2.eur_leave_ukbb_23andme.1e-4'\n",
       "47. 'PRS.B2.eur_leave_ukbb_23andme.1e-5'\n",
       "48. 'PRS.C2.eur_leave_ukbb_23andme.1e-3'\n",
       "49. 'PRS.C2.eur_leave_ukbb_23andme.1e-4'\n",
       "50. 'PRS.C2.eur_leave_ukbb_23andme.1e-5'\n",
       "\n",
       "\n"
      ],
      "text/plain": [
       " [1] \"FID\"                                \"IID\"                               \n",
       " [3] \"PRS.A2.leave_23andme.1e-3\"          \"PRS.A2.leave_23andme.1e-4\"         \n",
       " [5] \"PRS.A2.leave_23andme.1e-5\"          \"PRS.B1.leave_23andme.1e-3\"         \n",
       " [7] \"PRS.B1.leave_23andme.1e-4\"          \"PRS.B1.leave_23andme.1e-5\"         \n",
       " [9] \"PRS.B2.leave_23andme.1e-3\"          \"PRS.B2.leave_23andme.1e-4\"         \n",
       "[11] \"PRS.B2.leave_23andme.1e-5\"          \"PRS.C2.leave_23andme.1e-3\"         \n",
       "[13] \"PRS.C2.leave_23andme.1e-4\"          \"PRS.C2.leave_23andme.1e-5\"         \n",
       "[15] \"PRS.A2.leave_UKBB_23andme.1e-3\"     \"PRS.A2.leave_UKBB_23andme.1e-4\"    \n",
       "[17] \"PRS.A2.leave_UKBB_23andme.1e-5\"     \"PRS.B1.leave_UKBB_23andme.1e-3\"    \n",
       "[19] \"PRS.B1.leave_UKBB_23andme.1e-4\"     \"PRS.B1.leave_UKBB_23andme.1e-5\"    \n",
       "[21] \"PRS.B2.leave_UKBB_23andme.1e-3\"     \"PRS.B2.leave_UKBB_23andme.1e-4\"    \n",
       "[23] \"PRS.B2.leave_UKBB_23andme.1e-5\"     \"PRS.C2.leave_UKBB_23andme.1e-3\"    \n",
       "[25] \"PRS.C2.leave_UKBB_23andme.1e-4\"     \"PRS.C2.leave_UKBB_23andme.1e-5\"    \n",
       "[27] \"PRS.A2.eur_leave_23andme.1e-3\"      \"PRS.A2.eur_leave_23andme.1e-4\"     \n",
       "[29] \"PRS.A2.eur_leave_23andme.1e-5\"      \"PRS.B1.eur_leave_23andme.1e-3\"     \n",
       "[31] \"PRS.B1.eur_leave_23andme.1e-4\"      \"PRS.B1.eur_leave_23andme.1e-5\"     \n",
       "[33] \"PRS.B2.eur_leave_23andme.1e-3\"      \"PRS.B2.eur_leave_23andme.1e-4\"     \n",
       "[35] \"PRS.B2.eur_leave_23andme.1e-5\"      \"PRS.C2.eur_leave_23andme.1e-3\"     \n",
       "[37] \"PRS.C2.eur_leave_23andme.1e-4\"      \"PRS.C2.eur_leave_23andme.1e-5\"     \n",
       "[39] \"PRS.A2.eur_leave_ukbb_23andme.1e-3\" \"PRS.A2.eur_leave_ukbb_23andme.1e-4\"\n",
       "[41] \"PRS.A2.eur_leave_ukbb_23andme.1e-5\" \"PRS.B1.eur_leave_ukbb_23andme.1e-3\"\n",
       "[43] \"PRS.B1.eur_leave_ukbb_23andme.1e-4\" \"PRS.B1.eur_leave_ukbb_23andme.1e-5\"\n",
       "[45] \"PRS.B2.eur_leave_ukbb_23andme.1e-3\" \"PRS.B2.eur_leave_ukbb_23andme.1e-4\"\n",
       "[47] \"PRS.B2.eur_leave_ukbb_23andme.1e-5\" \"PRS.C2.eur_leave_ukbb_23andme.1e-3\"\n",
       "[49] \"PRS.C2.eur_leave_ukbb_23andme.1e-4\" \"PRS.C2.eur_leave_ukbb_23andme.1e-5\""
      ]
     },
     "metadata": {},
     "output_type": "display_data"
    }
   ],
   "source": [
    "PRS_df %>% colnames()\n"
   ]
  },
  {
   "cell_type": "code",
   "execution_count": 25,
   "id": "acting-province",
   "metadata": {},
   "outputs": [],
   "source": [
    "PRS_df %>%\n",
    "rename('#FID' = 'FID') %>%\n",
    "fwrite(file.path(data_d, 'UKB_PRS_clump.phe'), sep='\\t', na = \"NA\", quote=F)\n"
   ]
  },
  {
   "cell_type": "code",
   "execution_count": null,
   "id": "executive-impression",
   "metadata": {},
   "outputs": [],
   "source": []
  }
 ],
 "metadata": {
  "kernelspec": {
   "display_name": "R",
   "language": "R",
   "name": "ir"
  },
  "language_info": {
   "codemirror_mode": "r",
   "file_extension": ".r",
   "mimetype": "text/x-r-source",
   "name": "R",
   "pygments_lexer": "r",
   "version": "3.6.2"
  }
 },
 "nbformat": 4,
 "nbformat_minor": 5
}
