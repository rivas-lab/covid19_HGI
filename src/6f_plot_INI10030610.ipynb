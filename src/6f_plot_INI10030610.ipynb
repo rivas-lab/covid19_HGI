{
 "cells": [
  {
   "cell_type": "code",
   "execution_count": 1,
   "metadata": {},
   "outputs": [],
   "source": [
    "suppressWarnings(suppressPackageStartupMessages({\n",
    "    library(tidyverse)\n",
    "    library(data.table)\n",
    "}))\n"
   ]
  },
  {
   "cell_type": "code",
   "execution_count": 2,
   "metadata": {},
   "outputs": [],
   "source": [
    "source('0_parameters.sh')\n",
    "\n",
    "source('0_parameters_chr3_chemokine_pos.sh')\n",
    "\n",
    "source('plot_functions.R')\n"
   ]
  },
  {
   "cell_type": "code",
   "execution_count": 3,
   "metadata": {},
   "outputs": [],
   "source": [
    "clumpp <- 1e-5\n",
    "HGI_cc <- 'B2'\n",
    "HGI_sx <- 'eur_leave_ukbb_23andme'\n",
    "\n",
    "pheno <- 'INI10030610'\n",
    "clumpp_str <- str_replace(sprintf('%.0e', clumpp), '0', '')\n"
   ]
  },
  {
   "cell_type": "code",
   "execution_count": 4,
   "metadata": {},
   "outputs": [],
   "source": [
    "ukb_phe_info %>% fread(select=c('GBE_ID', 'GBE_short_name')) -> ukb_phe_info_df\n",
    "setNames(ukb_phe_info_df$GBE_short_name, ukb_phe_info_df$GBE_ID) -> ukb_phe_info_named_l\n"
   ]
  },
  {
   "cell_type": "code",
   "execution_count": 5,
   "metadata": {},
   "outputs": [
    {
     "data": {
      "text/html": [
       "'Alkaline phosphatase'"
      ],
      "text/latex": [
       "'Alkaline phosphatase'"
      ],
      "text/markdown": [
       "'Alkaline phosphatase'"
      ],
      "text/plain": [
       "[1] \"Alkaline phosphatase\""
      ]
     },
     "metadata": {},
     "output_type": "display_data"
    }
   ],
   "source": [
    "ukb_phe_info_named_l[[pheno]]"
   ]
  },
  {
   "cell_type": "code",
   "execution_count": 6,
   "metadata": {},
   "outputs": [],
   "source": [
    "HGI_sumstats_f <- file.path(\n",
    "    data_d, 'plink_format_UKB_cal',\n",
    "    UKB_cal_f %>%\n",
    "    str_replace('@@HGI_case_control@@', HGI_cc) %>%\n",
    "    str_replace('@@HGI_suffix@@', HGI_sx)\n",
    ")\n",
    "\n",
    "clump_f <- file.path(\n",
    "    data_d, 'UKB_PRS_clump',\n",
    "    basename(HGI_sumstats_f) %>%\n",
    "    str_replace('.tsv.gz$', str_replace(sprintf('.clump%.0e.clumped.gz', clumpp), '0', ''))\n",
    ")\n",
    "\n",
    "UKB_sumstats_f <- file.path(\n",
    "    data_d, 'UKB_PRS_PheWAS_follow_up_GWAS',\n",
    "    sprintf('ukb.%s.glm.gz', pheno)\n",
    ")\n"
   ]
  },
  {
   "cell_type": "code",
   "execution_count": 7,
   "metadata": {},
   "outputs": [],
   "source": [
    "clump_f %>% fread() %>% pull(SNP) -> clumped_vars\n"
   ]
  },
  {
   "cell_type": "code",
   "execution_count": 8,
   "metadata": {},
   "outputs": [],
   "source": [
    "ukb_cal_annotation_f %>%\n",
    "fread(colClasses = c('#CHROM'='character')) %>%\n",
    "rename('CHROM'='#CHROM')  -> ukb_cal_annotation_df\n"
   ]
  },
  {
   "cell_type": "code",
   "execution_count": 9,
   "metadata": {},
   "outputs": [],
   "source": [
    "UKB_sumstats_f %>% fread(colClasses = c('#CHROM'='character')) %>%\n",
    "rename('CHROM'='#CHROM') %>% filter(ID %in% clumped_vars) -> UKB_sumstats_df\n"
   ]
  },
  {
   "cell_type": "code",
   "execution_count": 10,
   "metadata": {},
   "outputs": [],
   "source": [
    "HGI_sumstats_f %>% fread(colClasses = c('#CHROM'='character')) %>%\n",
    "rename('CHROM'='#CHROM') %>% filter(ID %in% clumped_vars) -> HGI_sumstats_df\n"
   ]
  },
  {
   "cell_type": "code",
   "execution_count": 11,
   "metadata": {},
   "outputs": [],
   "source": [
    "inner_join(\n",
    "    UKB_sumstats_df %>%\n",
    "    separate(P, c('P_base', 'P_exp'), sep='e', remove=F, fill='right') %>%\n",
    "    replace_na(list(P_exp='0')) %>% mutate(log10P = log10(as.numeric(P_base)) + as.numeric(P_exp)) %>%\n",
    "    select(CHROM, POS, ID, BETA, SE, P, log10P),\n",
    "    HGI_sumstats_df %>%\n",
    "    separate(P, c('P_base', 'P_exp'), sep='e', remove=F, fill='right') %>%\n",
    "    replace_na(list(P_exp='0')) %>% mutate(log10P = log10(as.numeric(P_base)) + as.numeric(P_exp)) %>%\n",
    "    select(CHROM, POS, ID, BETA, SE, P, log10P),\n",
    "    by=c('CHROM', 'POS', 'ID'),\n",
    "    suffix=c('_UKB', '_HGI')\n",
    ") %>%\n",
    "left_join(\n",
    "    ukb_cal_annotation_df %>% select(ID, REF, ALT, SYMBOL),\n",
    "    by='ID'\n",
    ") %>% mutate(\n",
    "    is_in_chr3_chemokine_region = (\n",
    "        CHROM == '3' & \n",
    "        ((chr3_chemokine_pos - remove_half_window) <= POS) &\n",
    "        (POS <= (chr3_chemokine_pos + remove_half_window))\n",
    "    )\n",
    ") -> df\n"
   ]
  },
  {
   "cell_type": "code",
   "execution_count": 12,
   "metadata": {},
   "outputs": [],
   "source": [
    "df %>% p_HGIpval_vs_UKBpval() -> p_pval\n",
    "df %>% p_HGIbeta_vs_UKBbeta() -> p_beta\n",
    "\n",
    "df %>% filter(log10P_UKB > -500) %>% p_HGIpval_vs_UKBpval() -> p_pval_no_ABO\n",
    "df %>% filter(log10P_UKB > -500) %>% p_HGIbeta_vs_UKBbeta() -> p_beta_no_ABO\n"
   ]
  },
  {
   "cell_type": "code",
   "execution_count": 13,
   "metadata": {},
   "outputs": [],
   "source": [
    "out_f <- file.path(\n",
    "    repo_fig_d, 'UKB_PRS_PheWAS_follow_up_GWAS', sprintf(\n",
    "        'HGIrel5_%s_%s.clump%s.%s.png',\n",
    "        HGI_cc, HGI_sx, clumpp_str, pheno\n",
    "    )\n",
    ")\n",
    "    \n",
    "if(!dir.exists(dirname(out_f))) dir.create(dirname(out_f))\n",
    "\n",
    "gridExtra::arrangeGrob(\n",
    "    p_pval, p_beta, p_pval_no_ABO, p_beta_no_ABO, \n",
    "    ncol=2,\n",
    "    top=grid::textGrob(sprintf(\n",
    "        \"Comparison of GWAS associations (%s, %s, clump p1: %s)\\n%s (%s)\",\n",
    "        HGI_cc, HGI_sx, clumpp_str,\n",
    "        ukb_phe_info_named_l[[pheno]], pheno\n",
    "    ),gp=grid::gpar(fontsize=20))\n",
    ") -> g\n",
    "\n",
    "ggsave(file=out_f, g, width=16, height=16)\n",
    "ggsave(file=str_replace(out_f, '.png$', '.pdf'), g, width=16, height=16)\n",
    "        \n"
   ]
  },
  {
   "cell_type": "code",
   "execution_count": 14,
   "metadata": {},
   "outputs": [
    {
     "data": {
      "text/html": [
       "'../fig/UKB_PRS_PheWAS_follow_up_GWAS/HGIrel5_B2_eur_leave_ukbb_23andme.clump1e-5.INI10030610.png'"
      ],
      "text/latex": [
       "'../fig/UKB\\_PRS\\_PheWAS\\_follow\\_up\\_GWAS/HGIrel5\\_B2\\_eur\\_leave\\_ukbb\\_23andme.clump1e-5.INI10030610.png'"
      ],
      "text/markdown": [
       "'../fig/UKB_PRS_PheWAS_follow_up_GWAS/HGIrel5_B2_eur_leave_ukbb_23andme.clump1e-5.INI10030610.png'"
      ],
      "text/plain": [
       "[1] \"../fig/UKB_PRS_PheWAS_follow_up_GWAS/HGIrel5_B2_eur_leave_ukbb_23andme.clump1e-5.INI10030610.png\""
      ]
     },
     "metadata": {},
     "output_type": "display_data"
    }
   ],
   "source": [
    "out_f"
   ]
  },
  {
   "cell_type": "code",
   "execution_count": null,
   "metadata": {},
   "outputs": [],
   "source": []
  }
 ],
 "metadata": {
  "kernelspec": {
   "display_name": "R",
   "language": "R",
   "name": "ir"
  },
  "language_info": {
   "codemirror_mode": "r",
   "file_extension": ".r",
   "mimetype": "text/x-r-source",
   "name": "R",
   "pygments_lexer": "r",
   "version": "3.6.2"
  }
 },
 "nbformat": 4,
 "nbformat_minor": 4
}
