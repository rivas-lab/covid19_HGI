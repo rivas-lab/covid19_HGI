{
 "cells": [
  {
   "cell_type": "code",
   "execution_count": 1,
   "metadata": {},
   "outputs": [],
   "source": [
    "suppressWarnings(suppressPackageStartupMessages({\n",
    "    library(tidyverse)\n",
    "    library(data.table)\n",
    "}))\n"
   ]
  },
  {
   "cell_type": "code",
   "execution_count": 102,
   "metadata": {},
   "outputs": [],
   "source": [
    "source('0_parameters.sh')\n"
   ]
  },
  {
   "cell_type": "code",
   "execution_count": 93,
   "metadata": {},
   "outputs": [],
   "source": [
    "source('plot_functions.R')\n"
   ]
  },
  {
   "cell_type": "code",
   "execution_count": 3,
   "metadata": {},
   "outputs": [],
   "source": [
    "f <- file.path(data_scratch_d, 'UKB_PRS_PheWAS/HGIrel5.PRS_PheWAS.tsv.gz')\n"
   ]
  },
  {
   "cell_type": "code",
   "execution_count": 87,
   "metadata": {},
   "outputs": [],
   "source": [
    "f %>% fread(colClasses = c('GBE_ID'='character')) %>%\n",
    "rename('HGI_case_control'='#HGI_case_control')  %>%\n",
    "mutate(\n",
    "    plot_color = str_replace_all(GBE_category, '_', ' '),\n",
    "    plot_shape = if_else(estimate > 0, '+', '-')\n",
    ") -> df\n"
   ]
  },
  {
   "cell_type": "code",
   "execution_count": 107,
   "metadata": {},
   "outputs": [],
   "source": [
    "HGI_case_controls <- c('B2', 'C2', 'B1', 'A2')\n",
    "HGI_suffices <- c(\n",
    "    'leave_23andme',\n",
    "    'leave_UKBB_23andme',\n",
    "    'eur_leave_23andme',\n",
    "    'eur_leave_ukbb_23andme'\n",
    ")\n",
    "clump_p1s <- c(1e-5, 1e-4, 1e-3)\n"
   ]
  },
  {
   "cell_type": "code",
   "execution_count": 108,
   "metadata": {},
   "outputs": [],
   "source": [
    "for(clumpp in clump_p1s){\n",
    "for(HGI_cc in HGI_case_controls){\n",
    "for(HGI_sx in HGI_suffices){\n",
    "    clumpp_str <- str_replace(sprintf('%.0e', clumpp), '0', '')\n",
    "    \n",
    "    out_f <- file.path(\n",
    "        repo_fig_d, 'UKB_PRS_PheWAS', HGI_sx, sprintf(\n",
    "            'HGIrel5_%s_%s.clump%s.png', HGI_cc, HGI_sx, clumpp_str\n",
    "        )\n",
    "    )\n",
    "\n",
    "    if(!dir.exists(dirname(dirname(out_f)))) dir.create(dirname(dirname(out_f)))\n",
    "    if(!dir.exists(dirname(out_f))) dir.create(dirname(out_f))\n",
    "\n",
    "\n",
    "    tryCatch({\n",
    "\n",
    "        df %>% filter(\n",
    "            HGI_case_control == HGI_cc, \n",
    "            HGI_suffix == HGI_sx,\n",
    "            clump_p1 == clumpp, \n",
    "            P < 1e-4\n",
    "        ) %>% p_PRS_phewas() +\n",
    "        labs(title = sprintf(\"%s, clump p1: %s, %s\", HGI_cc, str_replace(sprintf('%.0e', clumpp), '0', ''), HGI_sx)) -> p\n",
    "\n",
    "        ggsave(file=out_f, p, width=8, height=8)\n",
    "        ggsave(file=str_replace(out_f, '.png$', '.pdf'), p, width=16, height=16)\n",
    "              \n",
    "    }, error=function(e){})\n",
    "    \n",
    "}}}\n"
   ]
  },
  {
   "cell_type": "code",
   "execution_count": 88,
   "metadata": {},
   "outputs": [
    {
     "data": {
      "text/html": [
       "<style>\n",
       ".list-inline {list-style: none; margin:0; padding: 0}\n",
       ".list-inline>li {display: inline-block}\n",
       ".list-inline>li:not(:last-child)::after {content: \"\\00b7\"; padding: 0 .5ex}\n",
       "</style>\n",
       "<ol class=list-inline><li>'HGI_case_control'</li><li>'HGI_suffix'</li><li>'clump_p1'</li><li>'GBE_category'</li><li>'GBE_ID'</li><li>'GBE_short_name'</li><li>'estimate'</li><li>'SE'</li><li>'z_or_t_value'</li><li>'P'</li><li>'plot_color'</li><li>'plot_shape'</li></ol>\n"
      ],
      "text/latex": [
       "\\begin{enumerate*}\n",
       "\\item 'HGI\\_case\\_control'\n",
       "\\item 'HGI\\_suffix'\n",
       "\\item 'clump\\_p1'\n",
       "\\item 'GBE\\_category'\n",
       "\\item 'GBE\\_ID'\n",
       "\\item 'GBE\\_short\\_name'\n",
       "\\item 'estimate'\n",
       "\\item 'SE'\n",
       "\\item 'z\\_or\\_t\\_value'\n",
       "\\item 'P'\n",
       "\\item 'plot\\_color'\n",
       "\\item 'plot\\_shape'\n",
       "\\end{enumerate*}\n"
      ],
      "text/markdown": [
       "1. 'HGI_case_control'\n",
       "2. 'HGI_suffix'\n",
       "3. 'clump_p1'\n",
       "4. 'GBE_category'\n",
       "5. 'GBE_ID'\n",
       "6. 'GBE_short_name'\n",
       "7. 'estimate'\n",
       "8. 'SE'\n",
       "9. 'z_or_t_value'\n",
       "10. 'P'\n",
       "11. 'plot_color'\n",
       "12. 'plot_shape'\n",
       "\n",
       "\n"
      ],
      "text/plain": [
       " [1] \"HGI_case_control\" \"HGI_suffix\"       \"clump_p1\"         \"GBE_category\"    \n",
       " [5] \"GBE_ID\"           \"GBE_short_name\"   \"estimate\"         \"SE\"              \n",
       " [9] \"z_or_t_value\"     \"P\"                \"plot_color\"       \"plot_shape\"      "
      ]
     },
     "metadata": {},
     "output_type": "display_data"
    }
   ],
   "source": [
    "df %>% colnames()"
   ]
  },
  {
   "cell_type": "code",
   "execution_count": 94,
   "metadata": {},
   "outputs": [
    {
     "data": {
      "text/html": [
       "<table>\n",
       "<caption>A data.table: 10 × 9</caption>\n",
       "<thead>\n",
       "\t<tr><th scope=col>GBE_category</th><th scope=col>GBE_ID</th><th scope=col>GBE_short_name</th><th scope=col>estimate</th><th scope=col>SE</th><th scope=col>z_or_t_value</th><th scope=col>P</th><th scope=col>plot_color</th><th scope=col>plot_shape</th></tr>\n",
       "\t<tr><th scope=col>&lt;chr&gt;</th><th scope=col>&lt;chr&gt;</th><th scope=col>&lt;chr&gt;</th><th scope=col>&lt;dbl&gt;</th><th scope=col>&lt;dbl&gt;</th><th scope=col>&lt;dbl&gt;</th><th scope=col>&lt;dbl&gt;</th><th scope=col>&lt;chr&gt;</th><th scope=col>&lt;chr&gt;</th></tr>\n",
       "</thead>\n",
       "<tbody>\n",
       "\t<tr><td>Biomarkers                </td><td>INI10030610  </td><td>Alkaline phosphatase        </td><td>-0.005770931</td><td>0.0004745987</td><td>-12.159600</td><td>5.190101e-34</td><td>Biomarkers                </td><td>-</td></tr>\n",
       "\t<tr><td>Blood_assays              </td><td>INI30190     </td><td>Monocyte %                  </td><td>-0.050301629</td><td>0.0046175429</td><td>-10.893592</td><td>1.250235e-27</td><td>Blood assays              </td><td>-</td></tr>\n",
       "\t<tr><td>Blood_assays              </td><td>INI30610     </td><td>Alkaline phosphatase        </td><td>-0.478839976</td><td>0.0458122544</td><td>-10.452225</td><td>1.444830e-25</td><td>Blood assays              </td><td>-</td></tr>\n",
       "\t<tr><td>Blood_assays              </td><td>INI30130     </td><td>Monocyte count              </td><td>-0.003785308</td><td>0.0003801780</td><td> -9.956674</td><td>2.376329e-23</td><td>Blood assays              </td><td>-</td></tr>\n",
       "\t<tr><td>Biomarkers                </td><td>INI10030650  </td><td>Aspartate aminotransferase  </td><td>-0.002244956</td><td>0.0004678284</td><td> -4.798675</td><td>1.597911e-06</td><td>Biomarkers                </td><td>-</td></tr>\n",
       "\t<tr><td>Health_and_medical_history</td><td>BIN_FC1006149</td><td>Mouth ulcers                </td><td>-0.025612879</td><td>0.0056343077</td><td> -4.545879</td><td>5.470655e-06</td><td>Health and medical history</td><td>-</td></tr>\n",
       "\t<tr><td>Blood_assays              </td><td>INI30270     </td><td>Mean sphered cell volume    </td><td> 0.041494609</td><td>0.0092539778</td><td>  4.483975</td><td>7.329031e-06</td><td>Blood assays              </td><td>+</td></tr>\n",
       "\t<tr><td>Blood_assays              </td><td>INI30650     </td><td>Aspartate aminotransferase  </td><td>-0.077857015</td><td>0.0183210694</td><td> -4.249589</td><td>2.142234e-05</td><td>Blood assays              </td><td>-</td></tr>\n",
       "\t<tr><td>Blood_assays              </td><td>INI30050     </td><td>Mean corpuscular haemoglobin</td><td> 0.012341910</td><td>0.0031452417</td><td>  3.923994</td><td>8.711065e-05</td><td>Blood assays              </td><td>+</td></tr>\n",
       "\t<tr><td>Blood_assays              </td><td>INI30260     </td><td>Mean reticulocyte volume    </td><td> 0.051839135</td><td>0.0136110358</td><td>  3.808611</td><td>1.397757e-04</td><td>Blood assays              </td><td>+</td></tr>\n",
       "</tbody>\n",
       "</table>\n"
      ],
      "text/latex": [
       "A data.table: 10 × 9\n",
       "\\begin{tabular}{lllllllll}\n",
       " GBE\\_category & GBE\\_ID & GBE\\_short\\_name & estimate & SE & z\\_or\\_t\\_value & P & plot\\_color & plot\\_shape\\\\\n",
       " <chr> & <chr> & <chr> & <dbl> & <dbl> & <dbl> & <dbl> & <chr> & <chr>\\\\\n",
       "\\hline\n",
       "\t Biomarkers                 & INI10030610   & Alkaline phosphatase         & -0.005770931 & 0.0004745987 & -12.159600 & 5.190101e-34 & Biomarkers                 & -\\\\\n",
       "\t Blood\\_assays               & INI30190      & Monocyte \\%                   & -0.050301629 & 0.0046175429 & -10.893592 & 1.250235e-27 & Blood assays               & -\\\\\n",
       "\t Blood\\_assays               & INI30610      & Alkaline phosphatase         & -0.478839976 & 0.0458122544 & -10.452225 & 1.444830e-25 & Blood assays               & -\\\\\n",
       "\t Blood\\_assays               & INI30130      & Monocyte count               & -0.003785308 & 0.0003801780 &  -9.956674 & 2.376329e-23 & Blood assays               & -\\\\\n",
       "\t Biomarkers                 & INI10030650   & Aspartate aminotransferase   & -0.002244956 & 0.0004678284 &  -4.798675 & 1.597911e-06 & Biomarkers                 & -\\\\\n",
       "\t Health\\_and\\_medical\\_history & BIN\\_FC1006149 & Mouth ulcers                 & -0.025612879 & 0.0056343077 &  -4.545879 & 5.470655e-06 & Health and medical history & -\\\\\n",
       "\t Blood\\_assays               & INI30270      & Mean sphered cell volume     &  0.041494609 & 0.0092539778 &   4.483975 & 7.329031e-06 & Blood assays               & +\\\\\n",
       "\t Blood\\_assays               & INI30650      & Aspartate aminotransferase   & -0.077857015 & 0.0183210694 &  -4.249589 & 2.142234e-05 & Blood assays               & -\\\\\n",
       "\t Blood\\_assays               & INI30050      & Mean corpuscular haemoglobin &  0.012341910 & 0.0031452417 &   3.923994 & 8.711065e-05 & Blood assays               & +\\\\\n",
       "\t Blood\\_assays               & INI30260      & Mean reticulocyte volume     &  0.051839135 & 0.0136110358 &   3.808611 & 1.397757e-04 & Blood assays               & +\\\\\n",
       "\\end{tabular}\n"
      ],
      "text/markdown": [
       "\n",
       "A data.table: 10 × 9\n",
       "\n",
       "| GBE_category &lt;chr&gt; | GBE_ID &lt;chr&gt; | GBE_short_name &lt;chr&gt; | estimate &lt;dbl&gt; | SE &lt;dbl&gt; | z_or_t_value &lt;dbl&gt; | P &lt;dbl&gt; | plot_color &lt;chr&gt; | plot_shape &lt;chr&gt; |\n",
       "|---|---|---|---|---|---|---|---|---|\n",
       "| Biomarkers                 | INI10030610   | Alkaline phosphatase         | -0.005770931 | 0.0004745987 | -12.159600 | 5.190101e-34 | Biomarkers                 | - |\n",
       "| Blood_assays               | INI30190      | Monocyte %                   | -0.050301629 | 0.0046175429 | -10.893592 | 1.250235e-27 | Blood assays               | - |\n",
       "| Blood_assays               | INI30610      | Alkaline phosphatase         | -0.478839976 | 0.0458122544 | -10.452225 | 1.444830e-25 | Blood assays               | - |\n",
       "| Blood_assays               | INI30130      | Monocyte count               | -0.003785308 | 0.0003801780 |  -9.956674 | 2.376329e-23 | Blood assays               | - |\n",
       "| Biomarkers                 | INI10030650   | Aspartate aminotransferase   | -0.002244956 | 0.0004678284 |  -4.798675 | 1.597911e-06 | Biomarkers                 | - |\n",
       "| Health_and_medical_history | BIN_FC1006149 | Mouth ulcers                 | -0.025612879 | 0.0056343077 |  -4.545879 | 5.470655e-06 | Health and medical history | - |\n",
       "| Blood_assays               | INI30270      | Mean sphered cell volume     |  0.041494609 | 0.0092539778 |   4.483975 | 7.329031e-06 | Blood assays               | + |\n",
       "| Blood_assays               | INI30650      | Aspartate aminotransferase   | -0.077857015 | 0.0183210694 |  -4.249589 | 2.142234e-05 | Blood assays               | - |\n",
       "| Blood_assays               | INI30050      | Mean corpuscular haemoglobin |  0.012341910 | 0.0031452417 |   3.923994 | 8.711065e-05 | Blood assays               | + |\n",
       "| Blood_assays               | INI30260      | Mean reticulocyte volume     |  0.051839135 | 0.0136110358 |   3.808611 | 1.397757e-04 | Blood assays               | + |\n",
       "\n"
      ],
      "text/plain": [
       "   GBE_category               GBE_ID        GBE_short_name              \n",
       "1  Biomarkers                 INI10030610   Alkaline phosphatase        \n",
       "2  Blood_assays               INI30190      Monocyte %                  \n",
       "3  Blood_assays               INI30610      Alkaline phosphatase        \n",
       "4  Blood_assays               INI30130      Monocyte count              \n",
       "5  Biomarkers                 INI10030650   Aspartate aminotransferase  \n",
       "6  Health_and_medical_history BIN_FC1006149 Mouth ulcers                \n",
       "7  Blood_assays               INI30270      Mean sphered cell volume    \n",
       "8  Blood_assays               INI30650      Aspartate aminotransferase  \n",
       "9  Blood_assays               INI30050      Mean corpuscular haemoglobin\n",
       "10 Blood_assays               INI30260      Mean reticulocyte volume    \n",
       "   estimate     SE           z_or_t_value P           \n",
       "1  -0.005770931 0.0004745987 -12.159600   5.190101e-34\n",
       "2  -0.050301629 0.0046175429 -10.893592   1.250235e-27\n",
       "3  -0.478839976 0.0458122544 -10.452225   1.444830e-25\n",
       "4  -0.003785308 0.0003801780  -9.956674   2.376329e-23\n",
       "5  -0.002244956 0.0004678284  -4.798675   1.597911e-06\n",
       "6  -0.025612879 0.0056343077  -4.545879   5.470655e-06\n",
       "7   0.041494609 0.0092539778   4.483975   7.329031e-06\n",
       "8  -0.077857015 0.0183210694  -4.249589   2.142234e-05\n",
       "9   0.012341910 0.0031452417   3.923994   8.711065e-05\n",
       "10  0.051839135 0.0136110358   3.808611   1.397757e-04\n",
       "   plot_color                 plot_shape\n",
       "1  Biomarkers                 -         \n",
       "2  Blood assays               -         \n",
       "3  Blood assays               -         \n",
       "4  Blood assays               -         \n",
       "5  Biomarkers                 -         \n",
       "6  Health and medical history -         \n",
       "7  Blood assays               +         \n",
       "8  Blood assays               -         \n",
       "9  Blood assays               +         \n",
       "10 Blood assays               +         "
      ]
     },
     "metadata": {},
     "output_type": "display_data"
    }
   ],
   "source": [
    "df %>%\n",
    "filter(\n",
    "    HGI_case_control == 'B2', \n",
    "    HGI_suffix == 'eur_leave_ukbb_23andme',\n",
    "    clump_p1 == 1e-5\n",
    ") %>%\n",
    "select(-HGI_case_control, -HGI_suffix, -clump_p1) %>%\n",
    "arrange(P) %>%\n",
    "head(10)"
   ]
  },
  {
   "cell_type": "code",
   "execution_count": 98,
   "metadata": {},
   "outputs": [
    {
     "data": {
      "image/png": "[encoded data removed]",
      "text/plain": [
       "plot without title"
      ]
     },
     "metadata": {
      "image/png": {
       "height": 420,
       "width": 420
      },
      "text/plain": {
       "height": 420,
       "width": 420
      }
     },
     "output_type": "display_data"
    }
   ],
   "source": [
    "df %>%\n",
    "filter(\n",
    "    HGI_case_control == HGI_cc, \n",
    "    HGI_suffix == HGI_sx,\n",
    "    clump_p1 == clumpp, \n",
    "    P < 1e-4\n",
    ") %>% p_PRS_phewas() +\n",
    "labs(title = sprintf(\"%s, clump p1: %s, %s\", HGI_cc, str_replace(sprintf('%.0e', clumpp), '0', ''), HGI_sx)) +\n",
    "scale_color_manual(values=setNames(\n",
    "    c(cb.colors[['orange']], cb.colors[['sky.blue']], cb.colors[['black']]), \n",
    "    c('Biomarkers', 'Blood assays', 'Health and medical history')\n",
    "))\n",
    "\n"
   ]
  },
  {
   "cell_type": "code",
   "execution_count": 8,
   "metadata": {},
   "outputs": [
    {
     "data": {
      "text/html": [
       "<table>\n",
       "<caption>A data.table: 10 × 7</caption>\n",
       "<thead>\n",
       "\t<tr><th scope=col>GBE_category</th><th scope=col>GBE_ID</th><th scope=col>GBE_short_name</th><th scope=col>estimate</th><th scope=col>SE</th><th scope=col>z_or_t_value</th><th scope=col>P</th></tr>\n",
       "\t<tr><th scope=col>&lt;chr&gt;</th><th scope=col>&lt;chr&gt;</th><th scope=col>&lt;chr&gt;</th><th scope=col>&lt;dbl&gt;</th><th scope=col>&lt;dbl&gt;</th><th scope=col>&lt;dbl&gt;</th><th scope=col>&lt;dbl&gt;</th></tr>\n",
       "</thead>\n",
       "<tbody>\n",
       "\t<tr><td>Biomarkers                </td><td>INI10030610  </td><td>Alkaline phosphatase        </td><td>-0.0045647257</td><td>4.745551e-04</td><td>-9.618959</td><td>6.695834e-22</td></tr>\n",
       "\t<tr><td>Blood_assays              </td><td>INI30610     </td><td>Alkaline phosphatase        </td><td>-0.3806696742</td><td>4.580715e-02</td><td>-8.310268</td><td>9.585018e-17</td></tr>\n",
       "\t<tr><td>Blood_assays              </td><td>INI30190     </td><td>Monocyte %                  </td><td>-0.0366606987</td><td>4.617200e-03</td><td>-7.940029</td><td>2.027685e-15</td></tr>\n",
       "\t<tr><td>Blood_assays              </td><td>INI30130     </td><td>Monocyte count              </td><td>-0.0028959197</td><td>3.801413e-04</td><td>-7.618010</td><td>2.583034e-14</td></tr>\n",
       "\t<tr><td>Blood_assays              </td><td>INI30050     </td><td>Mean corpuscular haemoglobin</td><td> 0.0143473218</td><td>3.144718e-03</td><td> 4.562356</td><td>5.060114e-06</td></tr>\n",
       "\t<tr><td>Health_and_medical_history</td><td>BIN_FC1006149</td><td>Mouth ulcers                </td><td>-0.0235425794</td><td>5.593411e-03</td><td>-4.208984</td><td>2.565214e-05</td></tr>\n",
       "\t<tr><td>Blood_assays              </td><td>INI30270     </td><td>Mean sphered cell volume    </td><td> 0.0368488585</td><td>9.252606e-03</td><td> 3.982538</td><td>6.819801e-05</td></tr>\n",
       "\t<tr><td>Blood_assays              </td><td>INI30090     </td><td>Platelet crit               </td><td>-0.0003163433</td><td>8.129068e-05</td><td>-3.891508</td><td>9.964264e-05</td></tr>\n",
       "\t<tr><td>Blood_assays              </td><td>INI30080     </td><td>Platelet count              </td><td>-0.3895124989</td><td>1.009837e-01</td><td>-3.857181</td><td>1.147243e-04</td></tr>\n",
       "\t<tr><td>Biomarkers                </td><td>INI10030650  </td><td>Aspartate aminotransferase  </td><td>-0.0017165674</td><td>4.677515e-04</td><td>-3.669828</td><td>2.427535e-04</td></tr>\n",
       "</tbody>\n",
       "</table>\n"
      ],
      "text/latex": [
       "A data.table: 10 × 7\n",
       "\\begin{tabular}{lllllll}\n",
       " GBE\\_category & GBE\\_ID & GBE\\_short\\_name & estimate & SE & z\\_or\\_t\\_value & P\\\\\n",
       " <chr> & <chr> & <chr> & <dbl> & <dbl> & <dbl> & <dbl>\\\\\n",
       "\\hline\n",
       "\t Biomarkers                 & INI10030610   & Alkaline phosphatase         & -0.0045647257 & 4.745551e-04 & -9.618959 & 6.695834e-22\\\\\n",
       "\t Blood\\_assays               & INI30610      & Alkaline phosphatase         & -0.3806696742 & 4.580715e-02 & -8.310268 & 9.585018e-17\\\\\n",
       "\t Blood\\_assays               & INI30190      & Monocyte \\%                   & -0.0366606987 & 4.617200e-03 & -7.940029 & 2.027685e-15\\\\\n",
       "\t Blood\\_assays               & INI30130      & Monocyte count               & -0.0028959197 & 3.801413e-04 & -7.618010 & 2.583034e-14\\\\\n",
       "\t Blood\\_assays               & INI30050      & Mean corpuscular haemoglobin &  0.0143473218 & 3.144718e-03 &  4.562356 & 5.060114e-06\\\\\n",
       "\t Health\\_and\\_medical\\_history & BIN\\_FC1006149 & Mouth ulcers                 & -0.0235425794 & 5.593411e-03 & -4.208984 & 2.565214e-05\\\\\n",
       "\t Blood\\_assays               & INI30270      & Mean sphered cell volume     &  0.0368488585 & 9.252606e-03 &  3.982538 & 6.819801e-05\\\\\n",
       "\t Blood\\_assays               & INI30090      & Platelet crit                & -0.0003163433 & 8.129068e-05 & -3.891508 & 9.964264e-05\\\\\n",
       "\t Blood\\_assays               & INI30080      & Platelet count               & -0.3895124989 & 1.009837e-01 & -3.857181 & 1.147243e-04\\\\\n",
       "\t Biomarkers                 & INI10030650   & Aspartate aminotransferase   & -0.0017165674 & 4.677515e-04 & -3.669828 & 2.427535e-04\\\\\n",
       "\\end{tabular}\n"
      ],
      "text/markdown": [
       "\n",
       "A data.table: 10 × 7\n",
       "\n",
       "| GBE_category &lt;chr&gt; | GBE_ID &lt;chr&gt; | GBE_short_name &lt;chr&gt; | estimate &lt;dbl&gt; | SE &lt;dbl&gt; | z_or_t_value &lt;dbl&gt; | P &lt;dbl&gt; |\n",
       "|---|---|---|---|---|---|---|\n",
       "| Biomarkers                 | INI10030610   | Alkaline phosphatase         | -0.0045647257 | 4.745551e-04 | -9.618959 | 6.695834e-22 |\n",
       "| Blood_assays               | INI30610      | Alkaline phosphatase         | -0.3806696742 | 4.580715e-02 | -8.310268 | 9.585018e-17 |\n",
       "| Blood_assays               | INI30190      | Monocyte %                   | -0.0366606987 | 4.617200e-03 | -7.940029 | 2.027685e-15 |\n",
       "| Blood_assays               | INI30130      | Monocyte count               | -0.0028959197 | 3.801413e-04 | -7.618010 | 2.583034e-14 |\n",
       "| Blood_assays               | INI30050      | Mean corpuscular haemoglobin |  0.0143473218 | 3.144718e-03 |  4.562356 | 5.060114e-06 |\n",
       "| Health_and_medical_history | BIN_FC1006149 | Mouth ulcers                 | -0.0235425794 | 5.593411e-03 | -4.208984 | 2.565214e-05 |\n",
       "| Blood_assays               | INI30270      | Mean sphered cell volume     |  0.0368488585 | 9.252606e-03 |  3.982538 | 6.819801e-05 |\n",
       "| Blood_assays               | INI30090      | Platelet crit                | -0.0003163433 | 8.129068e-05 | -3.891508 | 9.964264e-05 |\n",
       "| Blood_assays               | INI30080      | Platelet count               | -0.3895124989 | 1.009837e-01 | -3.857181 | 1.147243e-04 |\n",
       "| Biomarkers                 | INI10030650   | Aspartate aminotransferase   | -0.0017165674 | 4.677515e-04 | -3.669828 | 2.427535e-04 |\n",
       "\n"
      ],
      "text/plain": [
       "   GBE_category               GBE_ID        GBE_short_name              \n",
       "1  Biomarkers                 INI10030610   Alkaline phosphatase        \n",
       "2  Blood_assays               INI30610      Alkaline phosphatase        \n",
       "3  Blood_assays               INI30190      Monocyte %                  \n",
       "4  Blood_assays               INI30130      Monocyte count              \n",
       "5  Blood_assays               INI30050      Mean corpuscular haemoglobin\n",
       "6  Health_and_medical_history BIN_FC1006149 Mouth ulcers                \n",
       "7  Blood_assays               INI30270      Mean sphered cell volume    \n",
       "8  Blood_assays               INI30090      Platelet crit               \n",
       "9  Blood_assays               INI30080      Platelet count              \n",
       "10 Biomarkers                 INI10030650   Aspartate aminotransferase  \n",
       "   estimate      SE           z_or_t_value P           \n",
       "1  -0.0045647257 4.745551e-04 -9.618959    6.695834e-22\n",
       "2  -0.3806696742 4.580715e-02 -8.310268    9.585018e-17\n",
       "3  -0.0366606987 4.617200e-03 -7.940029    2.027685e-15\n",
       "4  -0.0028959197 3.801413e-04 -7.618010    2.583034e-14\n",
       "5   0.0143473218 3.144718e-03  4.562356    5.060114e-06\n",
       "6  -0.0235425794 5.593411e-03 -4.208984    2.565214e-05\n",
       "7   0.0368488585 9.252606e-03  3.982538    6.819801e-05\n",
       "8  -0.0003163433 8.129068e-05 -3.891508    9.964264e-05\n",
       "9  -0.3895124989 1.009837e-01 -3.857181    1.147243e-04\n",
       "10 -0.0017165674 4.677515e-04 -3.669828    2.427535e-04"
      ]
     },
     "metadata": {},
     "output_type": "display_data"
    }
   ],
   "source": [
    "df %>%\n",
    "filter(\n",
    "    HGI_case_control == 'B2', \n",
    "    HGI_suffix == 'eur_leave_ukbb_23andme',\n",
    "    clump_p1 == 1e-4\n",
    ") %>%\n",
    "select(-HGI_case_control, -HGI_suffix, -clump_p1) %>%\n",
    "arrange(P) %>%\n",
    "head(10)"
   ]
  },
  {
   "cell_type": "code",
   "execution_count": 9,
   "metadata": {},
   "outputs": [
    {
     "data": {
      "text/html": [
       "<table>\n",
       "<caption>A data.table: 10 × 7</caption>\n",
       "<thead>\n",
       "\t<tr><th scope=col>GBE_category</th><th scope=col>GBE_ID</th><th scope=col>GBE_short_name</th><th scope=col>estimate</th><th scope=col>SE</th><th scope=col>z_or_t_value</th><th scope=col>P</th></tr>\n",
       "\t<tr><th scope=col>&lt;chr&gt;</th><th scope=col>&lt;chr&gt;</th><th scope=col>&lt;chr&gt;</th><th scope=col>&lt;dbl&gt;</th><th scope=col>&lt;dbl&gt;</th><th scope=col>&lt;dbl&gt;</th><th scope=col>&lt;dbl&gt;</th></tr>\n",
       "</thead>\n",
       "<tbody>\n",
       "\t<tr><td>Blood_assays </td><td>INI30190</td><td>Monocyte %              </td><td>-0.027596190</td><td>0.004617119</td><td>-5.976928</td><td>2.276183e-09</td></tr>\n",
       "\t<tr><td>Blood_assays </td><td>INI30130</td><td>Monocyte count          </td><td>-0.002142395</td><td>0.000380134</td><td>-5.635895</td><td>1.742944e-08</td></tr>\n",
       "\t<tr><td>Anthropometry</td><td>INI23128</td><td>Trunk fat mass          </td><td> 0.040977987</td><td>0.008892787</td><td> 4.608003</td><td>4.067064e-06</td></tr>\n",
       "\t<tr><td>Anthropometry</td><td>INI23127</td><td>Trunk fat %             </td><td> 0.057371167</td><td>0.012452889</td><td> 4.607057</td><td>4.085600e-06</td></tr>\n",
       "\t<tr><td>Anthropometry</td><td>INI23119</td><td>Arm fat % (R)           </td><td> 0.058864181</td><td>0.012867884</td><td> 4.574503</td><td>4.775233e-06</td></tr>\n",
       "\t<tr><td>Anthropometry</td><td>INI23123</td><td>Arm fat % (L)           </td><td> 0.058078695</td><td>0.012985148</td><td> 4.472702</td><td>7.726306e-06</td></tr>\n",
       "\t<tr><td>Anthropometry</td><td>INI23100</td><td>Whole body fat mass     </td><td> 0.070990254</td><td>0.015946419</td><td> 4.451799</td><td>8.518162e-06</td></tr>\n",
       "\t<tr><td>Blood_assays </td><td>INI30270</td><td>Mean sphered cell volume</td><td> 0.040875001</td><td>0.009251993</td><td> 4.417967</td><td>9.966588e-06</td></tr>\n",
       "\t<tr><td>Anthropometry</td><td>INI23099</td><td>Body fat %              </td><td> 0.047264604</td><td>0.010898340</td><td> 4.336863</td><td>1.445734e-05</td></tr>\n",
       "\t<tr><td>Anthropometry</td><td>INI23120</td><td>Arm fat mass (R)        </td><td> 0.004379528</td><td>0.001061770</td><td> 4.124744</td><td>3.712370e-05</td></tr>\n",
       "</tbody>\n",
       "</table>\n"
      ],
      "text/latex": [
       "A data.table: 10 × 7\n",
       "\\begin{tabular}{lllllll}\n",
       " GBE\\_category & GBE\\_ID & GBE\\_short\\_name & estimate & SE & z\\_or\\_t\\_value & P\\\\\n",
       " <chr> & <chr> & <chr> & <dbl> & <dbl> & <dbl> & <dbl>\\\\\n",
       "\\hline\n",
       "\t Blood\\_assays  & INI30190 & Monocyte \\%               & -0.027596190 & 0.004617119 & -5.976928 & 2.276183e-09\\\\\n",
       "\t Blood\\_assays  & INI30130 & Monocyte count           & -0.002142395 & 0.000380134 & -5.635895 & 1.742944e-08\\\\\n",
       "\t Anthropometry & INI23128 & Trunk fat mass           &  0.040977987 & 0.008892787 &  4.608003 & 4.067064e-06\\\\\n",
       "\t Anthropometry & INI23127 & Trunk fat \\%              &  0.057371167 & 0.012452889 &  4.607057 & 4.085600e-06\\\\\n",
       "\t Anthropometry & INI23119 & Arm fat \\% (R)            &  0.058864181 & 0.012867884 &  4.574503 & 4.775233e-06\\\\\n",
       "\t Anthropometry & INI23123 & Arm fat \\% (L)            &  0.058078695 & 0.012985148 &  4.472702 & 7.726306e-06\\\\\n",
       "\t Anthropometry & INI23100 & Whole body fat mass      &  0.070990254 & 0.015946419 &  4.451799 & 8.518162e-06\\\\\n",
       "\t Blood\\_assays  & INI30270 & Mean sphered cell volume &  0.040875001 & 0.009251993 &  4.417967 & 9.966588e-06\\\\\n",
       "\t Anthropometry & INI23099 & Body fat \\%               &  0.047264604 & 0.010898340 &  4.336863 & 1.445734e-05\\\\\n",
       "\t Anthropometry & INI23120 & Arm fat mass (R)         &  0.004379528 & 0.001061770 &  4.124744 & 3.712370e-05\\\\\n",
       "\\end{tabular}\n"
      ],
      "text/markdown": [
       "\n",
       "A data.table: 10 × 7\n",
       "\n",
       "| GBE_category &lt;chr&gt; | GBE_ID &lt;chr&gt; | GBE_short_name &lt;chr&gt; | estimate &lt;dbl&gt; | SE &lt;dbl&gt; | z_or_t_value &lt;dbl&gt; | P &lt;dbl&gt; |\n",
       "|---|---|---|---|---|---|---|\n",
       "| Blood_assays  | INI30190 | Monocyte %               | -0.027596190 | 0.004617119 | -5.976928 | 2.276183e-09 |\n",
       "| Blood_assays  | INI30130 | Monocyte count           | -0.002142395 | 0.000380134 | -5.635895 | 1.742944e-08 |\n",
       "| Anthropometry | INI23128 | Trunk fat mass           |  0.040977987 | 0.008892787 |  4.608003 | 4.067064e-06 |\n",
       "| Anthropometry | INI23127 | Trunk fat %              |  0.057371167 | 0.012452889 |  4.607057 | 4.085600e-06 |\n",
       "| Anthropometry | INI23119 | Arm fat % (R)            |  0.058864181 | 0.012867884 |  4.574503 | 4.775233e-06 |\n",
       "| Anthropometry | INI23123 | Arm fat % (L)            |  0.058078695 | 0.012985148 |  4.472702 | 7.726306e-06 |\n",
       "| Anthropometry | INI23100 | Whole body fat mass      |  0.070990254 | 0.015946419 |  4.451799 | 8.518162e-06 |\n",
       "| Blood_assays  | INI30270 | Mean sphered cell volume |  0.040875001 | 0.009251993 |  4.417967 | 9.966588e-06 |\n",
       "| Anthropometry | INI23099 | Body fat %               |  0.047264604 | 0.010898340 |  4.336863 | 1.445734e-05 |\n",
       "| Anthropometry | INI23120 | Arm fat mass (R)         |  0.004379528 | 0.001061770 |  4.124744 | 3.712370e-05 |\n",
       "\n"
      ],
      "text/plain": [
       "   GBE_category  GBE_ID   GBE_short_name           estimate     SE         \n",
       "1  Blood_assays  INI30190 Monocyte %               -0.027596190 0.004617119\n",
       "2  Blood_assays  INI30130 Monocyte count           -0.002142395 0.000380134\n",
       "3  Anthropometry INI23128 Trunk fat mass            0.040977987 0.008892787\n",
       "4  Anthropometry INI23127 Trunk fat %               0.057371167 0.012452889\n",
       "5  Anthropometry INI23119 Arm fat % (R)             0.058864181 0.012867884\n",
       "6  Anthropometry INI23123 Arm fat % (L)             0.058078695 0.012985148\n",
       "7  Anthropometry INI23100 Whole body fat mass       0.070990254 0.015946419\n",
       "8  Blood_assays  INI30270 Mean sphered cell volume  0.040875001 0.009251993\n",
       "9  Anthropometry INI23099 Body fat %                0.047264604 0.010898340\n",
       "10 Anthropometry INI23120 Arm fat mass (R)          0.004379528 0.001061770\n",
       "   z_or_t_value P           \n",
       "1  -5.976928    2.276183e-09\n",
       "2  -5.635895    1.742944e-08\n",
       "3   4.608003    4.067064e-06\n",
       "4   4.607057    4.085600e-06\n",
       "5   4.574503    4.775233e-06\n",
       "6   4.472702    7.726306e-06\n",
       "7   4.451799    8.518162e-06\n",
       "8   4.417967    9.966588e-06\n",
       "9   4.336863    1.445734e-05\n",
       "10  4.124744    3.712370e-05"
      ]
     },
     "metadata": {},
     "output_type": "display_data"
    }
   ],
   "source": [
    "df %>%\n",
    "filter(\n",
    "    HGI_case_control == 'B2', \n",
    "    HGI_suffix == 'eur_leave_ukbb_23andme',\n",
    "    clump_p1 == 1e-3\n",
    ") %>%\n",
    "select(-HGI_case_control, -HGI_suffix, -clump_p1) %>%\n",
    "arrange(P) %>%\n",
    "head(10)"
   ]
  },
  {
   "cell_type": "code",
   "execution_count": 10,
   "metadata": {},
   "outputs": [
    {
     "data": {
      "text/html": [
       "<table>\n",
       "<caption>A data.table: 10 × 7</caption>\n",
       "<thead>\n",
       "\t<tr><th scope=col>GBE_category</th><th scope=col>GBE_ID</th><th scope=col>GBE_short_name</th><th scope=col>estimate</th><th scope=col>SE</th><th scope=col>z_or_t_value</th><th scope=col>P</th></tr>\n",
       "\t<tr><th scope=col>&lt;chr&gt;</th><th scope=col>&lt;chr&gt;</th><th scope=col>&lt;chr&gt;</th><th scope=col>&lt;dbl&gt;</th><th scope=col>&lt;dbl&gt;</th><th scope=col>&lt;dbl&gt;</th><th scope=col>&lt;dbl&gt;</th></tr>\n",
       "</thead>\n",
       "<tbody>\n",
       "\t<tr><td>Blood_assays              </td><td>INI30190     </td><td>Monocyte %                                                      </td><td>-0.0427699368</td><td>4.616914e-03</td><td>-9.263750</td><td>1.985148e-20</td></tr>\n",
       "\t<tr><td>Blood_assays              </td><td>INI30130     </td><td>Monocyte count                                                  </td><td>-0.0027689484</td><td>3.801339e-04</td><td>-7.284140</td><td>3.244519e-13</td></tr>\n",
       "\t<tr><td>Disease_outcome           </td><td>HC38         </td><td>Psoriasis                                                       </td><td>-0.0730343302</td><td>1.388839e-02</td><td>-5.258661</td><td>1.451084e-07</td></tr>\n",
       "\t<tr><td>Health_and_medical_history</td><td>BIN_FC1006149</td><td>Mouth ulcers                                                    </td><td>-0.0247188626</td><td>5.606913e-03</td><td>-4.408641</td><td>1.040214e-05</td></tr>\n",
       "\t<tr><td>Blood_assays              </td><td>INI30770     </td><td>IGF-1                                                           </td><td>-0.0420993981</td><td>9.614157e-03</td><td>-4.378896</td><td>1.193196e-05</td></tr>\n",
       "\t<tr><td>Biomarkers                </td><td>INI10030770  </td><td>IGF-1                                                           </td><td>-0.0019423818</td><td>4.677123e-04</td><td>-4.152941</td><td>3.283149e-05</td></tr>\n",
       "\t<tr><td>Blood_assays              </td><td>INI30080     </td><td>Platelet count                                                  </td><td>-0.3931616839</td><td>1.009809e-01</td><td>-3.893427</td><td>9.885743e-05</td></tr>\n",
       "\t<tr><td>DXA_assessment            </td><td>INI23262     </td><td>Gynoid fat mass                                                 </td><td>90.8717950267</td><td>2.345489e+01</td><td> 3.874321</td><td>1.087839e-04</td></tr>\n",
       "\t<tr><td>DXA_assessment            </td><td>INI23265     </td><td>Gynoid total mass                                               </td><td> 0.1270349984</td><td>3.439187e-02</td><td> 3.693751</td><td>2.241815e-04</td></tr>\n",
       "\t<tr><td>Diffusion_brain_MRI       </td><td>INI25075     </td><td>Mean FA in posterior limb of internal capsule on FA skeleton (L)</td><td>-0.0005581438</td><td>1.534603e-04</td><td>-3.637057</td><td>2.762997e-04</td></tr>\n",
       "</tbody>\n",
       "</table>\n"
      ],
      "text/latex": [
       "A data.table: 10 × 7\n",
       "\\begin{tabular}{lllllll}\n",
       " GBE\\_category & GBE\\_ID & GBE\\_short\\_name & estimate & SE & z\\_or\\_t\\_value & P\\\\\n",
       " <chr> & <chr> & <chr> & <dbl> & <dbl> & <dbl> & <dbl>\\\\\n",
       "\\hline\n",
       "\t Blood\\_assays               & INI30190      & Monocyte \\%                                                       & -0.0427699368 & 4.616914e-03 & -9.263750 & 1.985148e-20\\\\\n",
       "\t Blood\\_assays               & INI30130      & Monocyte count                                                   & -0.0027689484 & 3.801339e-04 & -7.284140 & 3.244519e-13\\\\\n",
       "\t Disease\\_outcome            & HC38          & Psoriasis                                                        & -0.0730343302 & 1.388839e-02 & -5.258661 & 1.451084e-07\\\\\n",
       "\t Health\\_and\\_medical\\_history & BIN\\_FC1006149 & Mouth ulcers                                                     & -0.0247188626 & 5.606913e-03 & -4.408641 & 1.040214e-05\\\\\n",
       "\t Blood\\_assays               & INI30770      & IGF-1                                                            & -0.0420993981 & 9.614157e-03 & -4.378896 & 1.193196e-05\\\\\n",
       "\t Biomarkers                 & INI10030770   & IGF-1                                                            & -0.0019423818 & 4.677123e-04 & -4.152941 & 3.283149e-05\\\\\n",
       "\t Blood\\_assays               & INI30080      & Platelet count                                                   & -0.3931616839 & 1.009809e-01 & -3.893427 & 9.885743e-05\\\\\n",
       "\t DXA\\_assessment             & INI23262      & Gynoid fat mass                                                  & 90.8717950267 & 2.345489e+01 &  3.874321 & 1.087839e-04\\\\\n",
       "\t DXA\\_assessment             & INI23265      & Gynoid total mass                                                &  0.1270349984 & 3.439187e-02 &  3.693751 & 2.241815e-04\\\\\n",
       "\t Diffusion\\_brain\\_MRI        & INI25075      & Mean FA in posterior limb of internal capsule on FA skeleton (L) & -0.0005581438 & 1.534603e-04 & -3.637057 & 2.762997e-04\\\\\n",
       "\\end{tabular}\n"
      ],
      "text/markdown": [
       "\n",
       "A data.table: 10 × 7\n",
       "\n",
       "| GBE_category &lt;chr&gt; | GBE_ID &lt;chr&gt; | GBE_short_name &lt;chr&gt; | estimate &lt;dbl&gt; | SE &lt;dbl&gt; | z_or_t_value &lt;dbl&gt; | P &lt;dbl&gt; |\n",
       "|---|---|---|---|---|---|---|\n",
       "| Blood_assays               | INI30190      | Monocyte %                                                       | -0.0427699368 | 4.616914e-03 | -9.263750 | 1.985148e-20 |\n",
       "| Blood_assays               | INI30130      | Monocyte count                                                   | -0.0027689484 | 3.801339e-04 | -7.284140 | 3.244519e-13 |\n",
       "| Disease_outcome            | HC38          | Psoriasis                                                        | -0.0730343302 | 1.388839e-02 | -5.258661 | 1.451084e-07 |\n",
       "| Health_and_medical_history | BIN_FC1006149 | Mouth ulcers                                                     | -0.0247188626 | 5.606913e-03 | -4.408641 | 1.040214e-05 |\n",
       "| Blood_assays               | INI30770      | IGF-1                                                            | -0.0420993981 | 9.614157e-03 | -4.378896 | 1.193196e-05 |\n",
       "| Biomarkers                 | INI10030770   | IGF-1                                                            | -0.0019423818 | 4.677123e-04 | -4.152941 | 3.283149e-05 |\n",
       "| Blood_assays               | INI30080      | Platelet count                                                   | -0.3931616839 | 1.009809e-01 | -3.893427 | 9.885743e-05 |\n",
       "| DXA_assessment             | INI23262      | Gynoid fat mass                                                  | 90.8717950267 | 2.345489e+01 |  3.874321 | 1.087839e-04 |\n",
       "| DXA_assessment             | INI23265      | Gynoid total mass                                                |  0.1270349984 | 3.439187e-02 |  3.693751 | 2.241815e-04 |\n",
       "| Diffusion_brain_MRI        | INI25075      | Mean FA in posterior limb of internal capsule on FA skeleton (L) | -0.0005581438 | 1.534603e-04 | -3.637057 | 2.762997e-04 |\n",
       "\n"
      ],
      "text/plain": [
       "   GBE_category               GBE_ID       \n",
       "1  Blood_assays               INI30190     \n",
       "2  Blood_assays               INI30130     \n",
       "3  Disease_outcome            HC38         \n",
       "4  Health_and_medical_history BIN_FC1006149\n",
       "5  Blood_assays               INI30770     \n",
       "6  Biomarkers                 INI10030770  \n",
       "7  Blood_assays               INI30080     \n",
       "8  DXA_assessment             INI23262     \n",
       "9  DXA_assessment             INI23265     \n",
       "10 Diffusion_brain_MRI        INI25075     \n",
       "   GBE_short_name                                                  \n",
       "1  Monocyte %                                                      \n",
       "2  Monocyte count                                                  \n",
       "3  Psoriasis                                                       \n",
       "4  Mouth ulcers                                                    \n",
       "5  IGF-1                                                           \n",
       "6  IGF-1                                                           \n",
       "7  Platelet count                                                  \n",
       "8  Gynoid fat mass                                                 \n",
       "9  Gynoid total mass                                               \n",
       "10 Mean FA in posterior limb of internal capsule on FA skeleton (L)\n",
       "   estimate      SE           z_or_t_value P           \n",
       "1  -0.0427699368 4.616914e-03 -9.263750    1.985148e-20\n",
       "2  -0.0027689484 3.801339e-04 -7.284140    3.244519e-13\n",
       "3  -0.0730343302 1.388839e-02 -5.258661    1.451084e-07\n",
       "4  -0.0247188626 5.606913e-03 -4.408641    1.040214e-05\n",
       "5  -0.0420993981 9.614157e-03 -4.378896    1.193196e-05\n",
       "6  -0.0019423818 4.677123e-04 -4.152941    3.283149e-05\n",
       "7  -0.3931616839 1.009809e-01 -3.893427    9.885743e-05\n",
       "8  90.8717950267 2.345489e+01  3.874321    1.087839e-04\n",
       "9   0.1270349984 3.439187e-02  3.693751    2.241815e-04\n",
       "10 -0.0005581438 1.534603e-04 -3.637057    2.762997e-04"
      ]
     },
     "metadata": {},
     "output_type": "display_data"
    }
   ],
   "source": [
    "df %>%\n",
    "filter(\n",
    "    HGI_case_control == 'A2', \n",
    "    HGI_suffix == 'eur_leave_ukbb_23andme',\n",
    "    clump_p1 == 1e-5\n",
    ") %>%\n",
    "select(-HGI_case_control, -HGI_suffix, -clump_p1) %>%\n",
    "arrange(P) %>%\n",
    "head(10)"
   ]
  },
  {
   "cell_type": "code",
   "execution_count": 11,
   "metadata": {},
   "outputs": [
    {
     "data": {
      "text/html": [
       "<table>\n",
       "<caption>A data.table: 10 × 7</caption>\n",
       "<thead>\n",
       "\t<tr><th scope=col>GBE_category</th><th scope=col>GBE_ID</th><th scope=col>GBE_short_name</th><th scope=col>estimate</th><th scope=col>SE</th><th scope=col>z_or_t_value</th><th scope=col>P</th></tr>\n",
       "\t<tr><th scope=col>&lt;chr&gt;</th><th scope=col>&lt;chr&gt;</th><th scope=col>&lt;chr&gt;</th><th scope=col>&lt;dbl&gt;</th><th scope=col>&lt;dbl&gt;</th><th scope=col>&lt;dbl&gt;</th><th scope=col>&lt;dbl&gt;</th></tr>\n",
       "</thead>\n",
       "<tbody>\n",
       "\t<tr><td>Blood_assays   </td><td>INI30190</td><td>Monocyte %                                                     </td><td>-0.031185148</td><td>0.0046164730</td><td>-6.755189</td><td>1.428859e-11</td></tr>\n",
       "\t<tr><td>Blood_assays   </td><td>INI30130</td><td>Monocyte count                                                 </td><td>-0.002019783</td><td>0.0003800887</td><td>-5.313979</td><td>1.073267e-07</td></tr>\n",
       "\t<tr><td>Blood_assays   </td><td>INI30260</td><td>Mean reticulocyte volume                                       </td><td> 0.056216472</td><td>0.0136063327</td><td> 4.131640</td><td>3.602744e-05</td></tr>\n",
       "\t<tr><td>Blood_assays   </td><td>INI30040</td><td>Mean corpuscular volume                                        </td><td> 0.028203685</td><td>0.0075596568</td><td> 3.730816</td><td>1.908931e-04</td></tr>\n",
       "\t<tr><td>Disease_outcome</td><td>HC842   </td><td>TTE other paralytic syndromes                                  </td><td> 0.126714447</td><td>0.0354909292</td><td> 3.570333</td><td>3.565273e-04</td></tr>\n",
       "\t<tr><td>Disease_outcome</td><td>HC34    </td><td>Pleurisy                                                       </td><td> 0.083196403</td><td>0.0235548706</td><td> 3.532025</td><td>4.123896e-04</td></tr>\n",
       "\t<tr><td>Blood_assays   </td><td>INI30050</td><td>Mean corpuscular haemoglobin                                   </td><td> 0.010652927</td><td>0.0031441767</td><td> 3.388145</td><td>7.037532e-04</td></tr>\n",
       "\t<tr><td>Disease_outcome</td><td>HC395   </td><td>Bladder problem (not cancer)                                   </td><td>-0.068578787</td><td>0.0216983130</td><td>-3.160558</td><td>1.574670e-03</td></tr>\n",
       "\t<tr><td>Mental_health  </td><td>INI20420</td><td>Longest period spent worried or anxious                        </td><td>-7.136601391</td><td>2.2751831174</td><td>-3.136715</td><td>1.710339e-03</td></tr>\n",
       "\t<tr><td>Disease_outcome</td><td>HC1521  </td><td>TTE other congenital malformations of tongue, mouth and pharynx</td><td>-0.172495944</td><td>0.0550085908</td><td>-3.135800</td><td>1.713860e-03</td></tr>\n",
       "</tbody>\n",
       "</table>\n"
      ],
      "text/latex": [
       "A data.table: 10 × 7\n",
       "\\begin{tabular}{lllllll}\n",
       " GBE\\_category & GBE\\_ID & GBE\\_short\\_name & estimate & SE & z\\_or\\_t\\_value & P\\\\\n",
       " <chr> & <chr> & <chr> & <dbl> & <dbl> & <dbl> & <dbl>\\\\\n",
       "\\hline\n",
       "\t Blood\\_assays    & INI30190 & Monocyte \\%                                                      & -0.031185148 & 0.0046164730 & -6.755189 & 1.428859e-11\\\\\n",
       "\t Blood\\_assays    & INI30130 & Monocyte count                                                  & -0.002019783 & 0.0003800887 & -5.313979 & 1.073267e-07\\\\\n",
       "\t Blood\\_assays    & INI30260 & Mean reticulocyte volume                                        &  0.056216472 & 0.0136063327 &  4.131640 & 3.602744e-05\\\\\n",
       "\t Blood\\_assays    & INI30040 & Mean corpuscular volume                                         &  0.028203685 & 0.0075596568 &  3.730816 & 1.908931e-04\\\\\n",
       "\t Disease\\_outcome & HC842    & TTE other paralytic syndromes                                   &  0.126714447 & 0.0354909292 &  3.570333 & 3.565273e-04\\\\\n",
       "\t Disease\\_outcome & HC34     & Pleurisy                                                        &  0.083196403 & 0.0235548706 &  3.532025 & 4.123896e-04\\\\\n",
       "\t Blood\\_assays    & INI30050 & Mean corpuscular haemoglobin                                    &  0.010652927 & 0.0031441767 &  3.388145 & 7.037532e-04\\\\\n",
       "\t Disease\\_outcome & HC395    & Bladder problem (not cancer)                                    & -0.068578787 & 0.0216983130 & -3.160558 & 1.574670e-03\\\\\n",
       "\t Mental\\_health   & INI20420 & Longest period spent worried or anxious                         & -7.136601391 & 2.2751831174 & -3.136715 & 1.710339e-03\\\\\n",
       "\t Disease\\_outcome & HC1521   & TTE other congenital malformations of tongue, mouth and pharynx & -0.172495944 & 0.0550085908 & -3.135800 & 1.713860e-03\\\\\n",
       "\\end{tabular}\n"
      ],
      "text/markdown": [
       "\n",
       "A data.table: 10 × 7\n",
       "\n",
       "| GBE_category &lt;chr&gt; | GBE_ID &lt;chr&gt; | GBE_short_name &lt;chr&gt; | estimate &lt;dbl&gt; | SE &lt;dbl&gt; | z_or_t_value &lt;dbl&gt; | P &lt;dbl&gt; |\n",
       "|---|---|---|---|---|---|---|\n",
       "| Blood_assays    | INI30190 | Monocyte %                                                      | -0.031185148 | 0.0046164730 | -6.755189 | 1.428859e-11 |\n",
       "| Blood_assays    | INI30130 | Monocyte count                                                  | -0.002019783 | 0.0003800887 | -5.313979 | 1.073267e-07 |\n",
       "| Blood_assays    | INI30260 | Mean reticulocyte volume                                        |  0.056216472 | 0.0136063327 |  4.131640 | 3.602744e-05 |\n",
       "| Blood_assays    | INI30040 | Mean corpuscular volume                                         |  0.028203685 | 0.0075596568 |  3.730816 | 1.908931e-04 |\n",
       "| Disease_outcome | HC842    | TTE other paralytic syndromes                                   |  0.126714447 | 0.0354909292 |  3.570333 | 3.565273e-04 |\n",
       "| Disease_outcome | HC34     | Pleurisy                                                        |  0.083196403 | 0.0235548706 |  3.532025 | 4.123896e-04 |\n",
       "| Blood_assays    | INI30050 | Mean corpuscular haemoglobin                                    |  0.010652927 | 0.0031441767 |  3.388145 | 7.037532e-04 |\n",
       "| Disease_outcome | HC395    | Bladder problem (not cancer)                                    | -0.068578787 | 0.0216983130 | -3.160558 | 1.574670e-03 |\n",
       "| Mental_health   | INI20420 | Longest period spent worried or anxious                         | -7.136601391 | 2.2751831174 | -3.136715 | 1.710339e-03 |\n",
       "| Disease_outcome | HC1521   | TTE other congenital malformations of tongue, mouth and pharynx | -0.172495944 | 0.0550085908 | -3.135800 | 1.713860e-03 |\n",
       "\n"
      ],
      "text/plain": [
       "   GBE_category    GBE_ID  \n",
       "1  Blood_assays    INI30190\n",
       "2  Blood_assays    INI30130\n",
       "3  Blood_assays    INI30260\n",
       "4  Blood_assays    INI30040\n",
       "5  Disease_outcome HC842   \n",
       "6  Disease_outcome HC34    \n",
       "7  Blood_assays    INI30050\n",
       "8  Disease_outcome HC395   \n",
       "9  Mental_health   INI20420\n",
       "10 Disease_outcome HC1521  \n",
       "   GBE_short_name                                                  estimate    \n",
       "1  Monocyte %                                                      -0.031185148\n",
       "2  Monocyte count                                                  -0.002019783\n",
       "3  Mean reticulocyte volume                                         0.056216472\n",
       "4  Mean corpuscular volume                                          0.028203685\n",
       "5  TTE other paralytic syndromes                                    0.126714447\n",
       "6  Pleurisy                                                         0.083196403\n",
       "7  Mean corpuscular haemoglobin                                     0.010652927\n",
       "8  Bladder problem (not cancer)                                    -0.068578787\n",
       "9  Longest period spent worried or anxious                         -7.136601391\n",
       "10 TTE other congenital malformations of tongue, mouth and pharynx -0.172495944\n",
       "   SE           z_or_t_value P           \n",
       "1  0.0046164730 -6.755189    1.428859e-11\n",
       "2  0.0003800887 -5.313979    1.073267e-07\n",
       "3  0.0136063327  4.131640    3.602744e-05\n",
       "4  0.0075596568  3.730816    1.908931e-04\n",
       "5  0.0354909292  3.570333    3.565273e-04\n",
       "6  0.0235548706  3.532025    4.123896e-04\n",
       "7  0.0031441767  3.388145    7.037532e-04\n",
       "8  0.0216983130 -3.160558    1.574670e-03\n",
       "9  2.2751831174 -3.136715    1.710339e-03\n",
       "10 0.0550085908 -3.135800    1.713860e-03"
      ]
     },
     "metadata": {},
     "output_type": "display_data"
    }
   ],
   "source": [
    "df %>%\n",
    "filter(\n",
    "    HGI_case_control == 'B1', \n",
    "    HGI_suffix == 'eur_leave_ukbb_23andme',\n",
    "    clump_p1 == 1e-5\n",
    ") %>%\n",
    "select(-HGI_case_control, -HGI_suffix, -clump_p1) %>%\n",
    "arrange(P) %>%\n",
    "head(10)"
   ]
  },
  {
   "cell_type": "code",
   "execution_count": 12,
   "metadata": {},
   "outputs": [
    {
     "data": {
      "text/html": [
       "<table>\n",
       "<caption>A data.table: 10 × 7</caption>\n",
       "<thead>\n",
       "\t<tr><th scope=col>GBE_category</th><th scope=col>GBE_ID</th><th scope=col>GBE_short_name</th><th scope=col>estimate</th><th scope=col>SE</th><th scope=col>z_or_t_value</th><th scope=col>P</th></tr>\n",
       "\t<tr><th scope=col>&lt;chr&gt;</th><th scope=col>&lt;chr&gt;</th><th scope=col>&lt;chr&gt;</th><th scope=col>&lt;dbl&gt;</th><th scope=col>&lt;dbl&gt;</th><th scope=col>&lt;dbl&gt;</th><th scope=col>&lt;dbl&gt;</th></tr>\n",
       "</thead>\n",
       "<tbody>\n",
       "\t<tr><td>Biomarkers                </td><td>INI10030610   </td><td>Alkaline phosphatase                 </td><td>-0.022621075</td><td>0.0004732795</td><td>-47.796436</td><td>0.000000e+00</td></tr>\n",
       "\t<tr><td>Blood_assays              </td><td>INI30610      </td><td>Alkaline phosphatase                 </td><td>-1.800160231</td><td>0.0457362857</td><td>-39.359563</td><td>0.000000e+00</td></tr>\n",
       "\t<tr><td>Biomarkers                </td><td>INI30030650   </td><td>AST to ALT ratio                     </td><td>-0.005857344</td><td>0.0005301827</td><td>-11.047785</td><td>2.273839e-28</td></tr>\n",
       "\t<tr><td>Health_and_medical_history</td><td>BIN_FC11006152</td><td>Blood clot or DVT diagnosed by doctor</td><td> 0.102759890</td><td>0.0103910169</td><td>  9.889301</td><td>4.632527e-23</td></tr>\n",
       "\t<tr><td>Health_and_medical_history</td><td>BIN_FC12006152</td><td>Blood clot in the leg (DVT) or lung  </td><td> 0.101529361</td><td>0.0103254095</td><td>  9.832962</td><td>8.119471e-23</td></tr>\n",
       "\t<tr><td>Disease_outcome           </td><td>HC987         </td><td>TTE phlebitis and thrombophlebitis   </td><td> 0.090148326</td><td>0.0092894724</td><td>  9.704354</td><td>2.889013e-22</td></tr>\n",
       "\t<tr><td>Biomarkers                </td><td>INI20030780   </td><td>LDL cholesterol                      </td><td> 0.003585569</td><td>0.0003912552</td><td>  9.164272</td><td>5.016615e-20</td></tr>\n",
       "\t<tr><td>Disease_outcome           </td><td>HC166         </td><td>DVT                                  </td><td> 0.107023009</td><td>0.0117307914</td><td>  9.123256</td><td>7.290073e-20</td></tr>\n",
       "\t<tr><td>Health_and_medical_history</td><td>BIN_FC1006152 </td><td>DVT diagnosed by doctor              </td><td> 0.104158648</td><td>0.0116214357</td><td>  8.962632</td><td>3.170201e-19</td></tr>\n",
       "\t<tr><td>Health_and_medical_history</td><td>BIN_FC6006152 </td><td>Blood clot in the leg (DVT)          </td><td> 0.102382141</td><td>0.0115652818</td><td>  8.852542</td><td>8.554825e-19</td></tr>\n",
       "</tbody>\n",
       "</table>\n"
      ],
      "text/latex": [
       "A data.table: 10 × 7\n",
       "\\begin{tabular}{lllllll}\n",
       " GBE\\_category & GBE\\_ID & GBE\\_short\\_name & estimate & SE & z\\_or\\_t\\_value & P\\\\\n",
       " <chr> & <chr> & <chr> & <dbl> & <dbl> & <dbl> & <dbl>\\\\\n",
       "\\hline\n",
       "\t Biomarkers                 & INI10030610    & Alkaline phosphatase                  & -0.022621075 & 0.0004732795 & -47.796436 & 0.000000e+00\\\\\n",
       "\t Blood\\_assays               & INI30610       & Alkaline phosphatase                  & -1.800160231 & 0.0457362857 & -39.359563 & 0.000000e+00\\\\\n",
       "\t Biomarkers                 & INI30030650    & AST to ALT ratio                      & -0.005857344 & 0.0005301827 & -11.047785 & 2.273839e-28\\\\\n",
       "\t Health\\_and\\_medical\\_history & BIN\\_FC11006152 & Blood clot or DVT diagnosed by doctor &  0.102759890 & 0.0103910169 &   9.889301 & 4.632527e-23\\\\\n",
       "\t Health\\_and\\_medical\\_history & BIN\\_FC12006152 & Blood clot in the leg (DVT) or lung   &  0.101529361 & 0.0103254095 &   9.832962 & 8.119471e-23\\\\\n",
       "\t Disease\\_outcome            & HC987          & TTE phlebitis and thrombophlebitis    &  0.090148326 & 0.0092894724 &   9.704354 & 2.889013e-22\\\\\n",
       "\t Biomarkers                 & INI20030780    & LDL cholesterol                       &  0.003585569 & 0.0003912552 &   9.164272 & 5.016615e-20\\\\\n",
       "\t Disease\\_outcome            & HC166          & DVT                                   &  0.107023009 & 0.0117307914 &   9.123256 & 7.290073e-20\\\\\n",
       "\t Health\\_and\\_medical\\_history & BIN\\_FC1006152  & DVT diagnosed by doctor               &  0.104158648 & 0.0116214357 &   8.962632 & 3.170201e-19\\\\\n",
       "\t Health\\_and\\_medical\\_history & BIN\\_FC6006152  & Blood clot in the leg (DVT)           &  0.102382141 & 0.0115652818 &   8.852542 & 8.554825e-19\\\\\n",
       "\\end{tabular}\n"
      ],
      "text/markdown": [
       "\n",
       "A data.table: 10 × 7\n",
       "\n",
       "| GBE_category &lt;chr&gt; | GBE_ID &lt;chr&gt; | GBE_short_name &lt;chr&gt; | estimate &lt;dbl&gt; | SE &lt;dbl&gt; | z_or_t_value &lt;dbl&gt; | P &lt;dbl&gt; |\n",
       "|---|---|---|---|---|---|---|\n",
       "| Biomarkers                 | INI10030610    | Alkaline phosphatase                  | -0.022621075 | 0.0004732795 | -47.796436 | 0.000000e+00 |\n",
       "| Blood_assays               | INI30610       | Alkaline phosphatase                  | -1.800160231 | 0.0457362857 | -39.359563 | 0.000000e+00 |\n",
       "| Biomarkers                 | INI30030650    | AST to ALT ratio                      | -0.005857344 | 0.0005301827 | -11.047785 | 2.273839e-28 |\n",
       "| Health_and_medical_history | BIN_FC11006152 | Blood clot or DVT diagnosed by doctor |  0.102759890 | 0.0103910169 |   9.889301 | 4.632527e-23 |\n",
       "| Health_and_medical_history | BIN_FC12006152 | Blood clot in the leg (DVT) or lung   |  0.101529361 | 0.0103254095 |   9.832962 | 8.119471e-23 |\n",
       "| Disease_outcome            | HC987          | TTE phlebitis and thrombophlebitis    |  0.090148326 | 0.0092894724 |   9.704354 | 2.889013e-22 |\n",
       "| Biomarkers                 | INI20030780    | LDL cholesterol                       |  0.003585569 | 0.0003912552 |   9.164272 | 5.016615e-20 |\n",
       "| Disease_outcome            | HC166          | DVT                                   |  0.107023009 | 0.0117307914 |   9.123256 | 7.290073e-20 |\n",
       "| Health_and_medical_history | BIN_FC1006152  | DVT diagnosed by doctor               |  0.104158648 | 0.0116214357 |   8.962632 | 3.170201e-19 |\n",
       "| Health_and_medical_history | BIN_FC6006152  | Blood clot in the leg (DVT)           |  0.102382141 | 0.0115652818 |   8.852542 | 8.554825e-19 |\n",
       "\n"
      ],
      "text/plain": [
       "   GBE_category               GBE_ID        \n",
       "1  Biomarkers                 INI10030610   \n",
       "2  Blood_assays               INI30610      \n",
       "3  Biomarkers                 INI30030650   \n",
       "4  Health_and_medical_history BIN_FC11006152\n",
       "5  Health_and_medical_history BIN_FC12006152\n",
       "6  Disease_outcome            HC987         \n",
       "7  Biomarkers                 INI20030780   \n",
       "8  Disease_outcome            HC166         \n",
       "9  Health_and_medical_history BIN_FC1006152 \n",
       "10 Health_and_medical_history BIN_FC6006152 \n",
       "   GBE_short_name                        estimate     SE           z_or_t_value\n",
       "1  Alkaline phosphatase                  -0.022621075 0.0004732795 -47.796436  \n",
       "2  Alkaline phosphatase                  -1.800160231 0.0457362857 -39.359563  \n",
       "3  AST to ALT ratio                      -0.005857344 0.0005301827 -11.047785  \n",
       "4  Blood clot or DVT diagnosed by doctor  0.102759890 0.0103910169   9.889301  \n",
       "5  Blood clot in the leg (DVT) or lung    0.101529361 0.0103254095   9.832962  \n",
       "6  TTE phlebitis and thrombophlebitis     0.090148326 0.0092894724   9.704354  \n",
       "7  LDL cholesterol                        0.003585569 0.0003912552   9.164272  \n",
       "8  DVT                                    0.107023009 0.0117307914   9.123256  \n",
       "9  DVT diagnosed by doctor                0.104158648 0.0116214357   8.962632  \n",
       "10 Blood clot in the leg (DVT)            0.102382141 0.0115652818   8.852542  \n",
       "   P           \n",
       "1  0.000000e+00\n",
       "2  0.000000e+00\n",
       "3  2.273839e-28\n",
       "4  4.632527e-23\n",
       "5  8.119471e-23\n",
       "6  2.889013e-22\n",
       "7  5.016615e-20\n",
       "8  7.290073e-20\n",
       "9  3.170201e-19\n",
       "10 8.554825e-19"
      ]
     },
     "metadata": {},
     "output_type": "display_data"
    }
   ],
   "source": [
    "df %>%\n",
    "filter(\n",
    "    HGI_case_control == 'C2', \n",
    "    HGI_suffix == 'eur_leave_ukbb_23andme',\n",
    "    clump_p1 == 1e-5\n",
    ") %>%\n",
    "select(-HGI_case_control, -HGI_suffix, -clump_p1) %>%\n",
    "arrange(P) %>%\n",
    "head(10)"
   ]
  },
  {
   "cell_type": "code",
   "execution_count": null,
   "metadata": {},
   "outputs": [],
   "source": []
  }
 ],
 "metadata": {
  "kernelspec": {
   "display_name": "R",
   "language": "R",
   "name": "ir"
  },
  "language_info": {
   "codemirror_mode": "r",
   "file_extension": ".r",
   "mimetype": "text/x-r-source",
   "name": "R",
   "pygments_lexer": "r",
   "version": "3.6.2"
  }
 },
 "nbformat": 4,
 "nbformat_minor": 4
}
