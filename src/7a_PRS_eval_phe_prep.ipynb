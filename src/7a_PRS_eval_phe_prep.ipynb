{
 "cells": [
  {
   "cell_type": "code",
   "execution_count": 1,
   "id": "fifteen-freight",
   "metadata": {},
   "outputs": [],
   "source": [
    "suppressWarnings(suppressPackageStartupMessages({\n",
    "    library(tidyverse)\n",
    "    library(data.table)\n",
    "}))\n"
   ]
  },
  {
   "cell_type": "code",
   "execution_count": 2,
   "id": "secondary-provincial",
   "metadata": {},
   "outputs": [],
   "source": [
    "source('0_parameters.sh')\n"
   ]
  },
  {
   "cell_type": "code",
   "execution_count": 3,
   "id": "classified-college",
   "metadata": {},
   "outputs": [],
   "source": [
    "source(snpnet_misc_R)\n"
   ]
  },
  {
   "cell_type": "code",
   "execution_count": 4,
   "id": "rural-anderson",
   "metadata": {},
   "outputs": [],
   "source": [
    "covariates <- c('age', 'sex', paste0('PC', 1:10))\n",
    "UKB_phes <- c('covid19_severe', 'covid19_test_result')\n"
   ]
  },
  {
   "cell_type": "code",
   "execution_count": 16,
   "id": "suburban-disability",
   "metadata": {},
   "outputs": [],
   "source": [
    "ukb_covid_phe %>%\n",
    "str_replace('@@ukb_covid_version@@', ukb_covid_version) %>%\n",
    "fread(\n",
    "    colClasses = c('#FID'='character', 'IID'='character'),\n",
    "    select = c('#FID', 'IID', 'population', 'split', UKB_phes, covariates)\n",
    ") %>%\n",
    "rename('FID'='#FID') %>%\n",
    "filter(population == 'white_british') -> phe_WB_df\n"
   ]
  },
  {
   "cell_type": "code",
   "execution_count": 17,
   "id": "compact-commissioner",
   "metadata": {},
   "outputs": [],
   "source": [
    "for(UKB_phe in UKB_phes){\n",
    "    # add covariate-based score in the data frame\n",
    "    phe_WB_df %>% left_join(\n",
    "        phe_WB_df %>% \n",
    "        rename(!!'phe' := all_of(UKB_phe)) %>%\n",
    "        compute_covar_score('phe', covariates, 'binomial') %>%\n",
    "        rename(!!paste(UKB_phe, 'covar_score', sep='.') := 'covar_score'),\n",
    "        by=c('FID', 'IID')\n",
    "    ) -> phe_WB_df\n",
    "}\n"
   ]
  },
  {
   "cell_type": "code",
   "execution_count": 18,
   "id": "absolute-mystery",
   "metadata": {},
   "outputs": [
    {
     "data": {
      "text/html": [
       "<style>\n",
       ".list-inline {list-style: none; margin:0; padding: 0}\n",
       ".list-inline>li {display: inline-block}\n",
       ".list-inline>li:not(:last-child)::after {content: \"\\00b7\"; padding: 0 .5ex}\n",
       "</style>\n",
       "<ol class=list-inline><li>'FID'</li><li>'IID'</li><li>'population'</li><li>'split'</li><li>'covid19_severe'</li><li>'covid19_test_result'</li><li>'age'</li><li>'sex'</li><li>'PC1'</li><li>'PC2'</li><li>'PC3'</li><li>'PC4'</li><li>'PC5'</li><li>'PC6'</li><li>'PC7'</li><li>'PC8'</li><li>'PC9'</li><li>'PC10'</li><li>'covid19_severe.covar_score'</li><li>'covid19_test_result.covar_score'</li></ol>\n"
      ],
      "text/latex": [
       "\\begin{enumerate*}\n",
       "\\item 'FID'\n",
       "\\item 'IID'\n",
       "\\item 'population'\n",
       "\\item 'split'\n",
       "\\item 'covid19\\_severe'\n",
       "\\item 'covid19\\_test\\_result'\n",
       "\\item 'age'\n",
       "\\item 'sex'\n",
       "\\item 'PC1'\n",
       "\\item 'PC2'\n",
       "\\item 'PC3'\n",
       "\\item 'PC4'\n",
       "\\item 'PC5'\n",
       "\\item 'PC6'\n",
       "\\item 'PC7'\n",
       "\\item 'PC8'\n",
       "\\item 'PC9'\n",
       "\\item 'PC10'\n",
       "\\item 'covid19\\_severe.covar\\_score'\n",
       "\\item 'covid19\\_test\\_result.covar\\_score'\n",
       "\\end{enumerate*}\n"
      ],
      "text/markdown": [
       "1. 'FID'\n",
       "2. 'IID'\n",
       "3. 'population'\n",
       "4. 'split'\n",
       "5. 'covid19_severe'\n",
       "6. 'covid19_test_result'\n",
       "7. 'age'\n",
       "8. 'sex'\n",
       "9. 'PC1'\n",
       "10. 'PC2'\n",
       "11. 'PC3'\n",
       "12. 'PC4'\n",
       "13. 'PC5'\n",
       "14. 'PC6'\n",
       "15. 'PC7'\n",
       "16. 'PC8'\n",
       "17. 'PC9'\n",
       "18. 'PC10'\n",
       "19. 'covid19_severe.covar_score'\n",
       "20. 'covid19_test_result.covar_score'\n",
       "\n",
       "\n"
      ],
      "text/plain": [
       " [1] \"FID\"                             \"IID\"                            \n",
       " [3] \"population\"                      \"split\"                          \n",
       " [5] \"covid19_severe\"                  \"covid19_test_result\"            \n",
       " [7] \"age\"                             \"sex\"                            \n",
       " [9] \"PC1\"                             \"PC2\"                            \n",
       "[11] \"PC3\"                             \"PC4\"                            \n",
       "[13] \"PC5\"                             \"PC6\"                            \n",
       "[15] \"PC7\"                             \"PC8\"                            \n",
       "[17] \"PC9\"                             \"PC10\"                           \n",
       "[19] \"covid19_severe.covar_score\"      \"covid19_test_result.covar_score\""
      ]
     },
     "metadata": {},
     "output_type": "display_data"
    }
   ],
   "source": [
    "colnames(phe_WB_df)"
   ]
  },
  {
   "cell_type": "code",
   "execution_count": 19,
   "id": "historical-picture",
   "metadata": {},
   "outputs": [
    {
     "data": {
      "text/html": [
       "<table class=\"dataframe\">\n",
       "<caption>A data.table: 3 × 3</caption>\n",
       "<thead>\n",
       "\t<tr><th scope=col>population</th><th scope=col>split</th><th scope=col>n</th></tr>\n",
       "\t<tr><th scope=col>&lt;chr&gt;</th><th scope=col>&lt;chr&gt;</th><th scope=col>&lt;int&gt;</th></tr>\n",
       "</thead>\n",
       "<tbody>\n",
       "\t<tr><td>white_british</td><td>test </td><td> 67425</td></tr>\n",
       "\t<tr><td>white_british</td><td>train</td><td>235991</td></tr>\n",
       "\t<tr><td>white_british</td><td>val  </td><td> 33713</td></tr>\n",
       "</tbody>\n",
       "</table>\n"
      ],
      "text/latex": [
       "A data.table: 3 × 3\n",
       "\\begin{tabular}{lll}\n",
       " population & split & n\\\\\n",
       " <chr> & <chr> & <int>\\\\\n",
       "\\hline\n",
       "\t white\\_british & test  &  67425\\\\\n",
       "\t white\\_british & train & 235991\\\\\n",
       "\t white\\_british & val   &  33713\\\\\n",
       "\\end{tabular}\n"
      ],
      "text/markdown": [
       "\n",
       "A data.table: 3 × 3\n",
       "\n",
       "| population &lt;chr&gt; | split &lt;chr&gt; | n &lt;int&gt; |\n",
       "|---|---|---|\n",
       "| white_british | test  |  67425 |\n",
       "| white_british | train | 235991 |\n",
       "| white_british | val   |  33713 |\n",
       "\n"
      ],
      "text/plain": [
       "  population    split n     \n",
       "1 white_british test   67425\n",
       "2 white_british train 235991\n",
       "3 white_british val    33713"
      ]
     },
     "metadata": {},
     "output_type": "display_data"
    }
   ],
   "source": [
    "phe_WB_df %>% count(population, split)"
   ]
  },
  {
   "cell_type": "code",
   "execution_count": 21,
   "id": "thrown-bread",
   "metadata": {},
   "outputs": [],
   "source": [
    "phe_WB_df %>%\n",
    "rename('#FID' = 'FID') %>%\n",
    "fwrite(file.path(data_d, 'UKB_PRS_eval', 'UKB.WB.phe'), sep='\\t', na = \"NA\", quote=F)\n"
   ]
  },
  {
   "cell_type": "code",
   "execution_count": null,
   "id": "offshore-carrier",
   "metadata": {},
   "outputs": [],
   "source": []
  }
 ],
 "metadata": {
  "kernelspec": {
   "display_name": "R",
   "language": "R",
   "name": "ir"
  },
  "language_info": {
   "codemirror_mode": "r",
   "file_extension": ".r",
   "mimetype": "text/x-r-source",
   "name": "R",
   "pygments_lexer": "r",
   "version": "3.6.2"
  }
 },
 "nbformat": 4,
 "nbformat_minor": 5
}
