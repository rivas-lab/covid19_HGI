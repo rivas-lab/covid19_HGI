{
 "cells": [
  {
   "cell_type": "code",
   "execution_count": 1,
   "metadata": {},
   "outputs": [],
   "source": [
    "suppressWarnings(suppressPackageStartupMessages({\n",
    "    library(tidyverse)\n",
    "    library(data.table)\n",
    "}))\n"
   ]
  },
  {
   "cell_type": "code",
   "execution_count": 2,
   "metadata": {},
   "outputs": [],
   "source": [
    "source('0_parameters.sh')\n",
    "\n",
    "cat_or_zcat <- function(f){\n",
    "    ifelse(endsWith(f, '.zst'), 'zstdcat', ifelse(endsWith(f, '.gz'), 'zcat', 'cat'))\n",
    "}\n"
   ]
  },
  {
   "cell_type": "code",
   "execution_count": 3,
   "metadata": {},
   "outputs": [],
   "source": [
    "ukb_keep_wb %>% fread(head=F, colClasses = 'character') %>% rename('FID'=1, 'IID'=2) -> keep_df\n"
   ]
  },
  {
   "cell_type": "code",
   "execution_count": 4,
   "metadata": {},
   "outputs": [],
   "source": [
    "file.path(data_scratch_d, 'UKB_PRS_PheWAS/HGIrel5.PRS_PheWAS.1e-5.tsv.gz') %>%\n",
    "fread(select=c('GBE_ID')) %>% pull() %>% unique() -> phe_list\n"
   ]
  },
  {
   "cell_type": "code",
   "execution_count": 5,
   "metadata": {},
   "outputs": [],
   "source": [
    "phe_f <- ukb_master_phe\n",
    "\n",
    "fread(\n",
    "    cmd=paste(cat_or_zcat(phe_f), phe_f),\n",
    "    colClasses = c('#FID'='character', 'IID'='character'),\n",
    "    select = all_of(c('#FID', 'IID', 'age', 'sex', 'Array', paste0('PC', 1:10), phe_list))\n",
    ") %>% rename('FID'='#FID') -> phe_df\n"
   ]
  },
  {
   "cell_type": "code",
   "execution_count": 8,
   "metadata": {},
   "outputs": [],
   "source": [
    "phe_df %>%\n",
    "inner_join(keep_df, by=c('FID', 'IID')) %>%\n",
    "mutate(age_sq = age * age) %>%\n",
    "select(all_of(c('FID', 'IID', 'age', 'age_sq', 'sex', 'Array', paste0('PC', 1:10), phe_list))) -> full_df\n"
   ]
  },
  {
   "cell_type": "code",
   "execution_count": 9,
   "metadata": {},
   "outputs": [
    {
     "data": {
      "text/html": [
       "47"
      ],
      "text/latex": [
       "47"
      ],
      "text/markdown": [
       "47"
      ],
      "text/plain": [
       "[1] 47"
      ]
     },
     "metadata": {},
     "output_type": "display_data"
    }
   ],
   "source": [
    "min(full_df$age)"
   ]
  },
  {
   "cell_type": "code",
   "execution_count": 10,
   "metadata": {},
   "outputs": [
    {
     "data": {
      "text/html": [
       "81"
      ],
      "text/latex": [
       "81"
      ],
      "text/markdown": [
       "81"
      ],
      "text/plain": [
       "[1] 81"
      ]
     },
     "metadata": {},
     "output_type": "display_data"
    }
   ],
   "source": [
    "max(full_df$age)"
   ]
  },
  {
   "cell_type": "code",
   "execution_count": 11,
   "metadata": {},
   "outputs": [],
   "source": [
    "full_df %>%\n",
    "rename('#FID' = 'FID') %>%\n",
    "fwrite(file.path(data_d, 'UKB_PRS_PheWAS_follow_up_GWAS', 'phe.tsv'), sep='\\t', na = \"NA\", quote=F)\n"
   ]
  },
  {
   "cell_type": "code",
   "execution_count": null,
   "metadata": {},
   "outputs": [],
   "source": []
  }
 ],
 "metadata": {
  "kernelspec": {
   "display_name": "R",
   "language": "R",
   "name": "ir"
  },
  "language_info": {
   "codemirror_mode": "r",
   "file_extension": ".r",
   "mimetype": "text/x-r-source",
   "name": "R",
   "pygments_lexer": "r",
   "version": "3.6.2"
  }
 },
 "nbformat": 4,
 "nbformat_minor": 4
}
